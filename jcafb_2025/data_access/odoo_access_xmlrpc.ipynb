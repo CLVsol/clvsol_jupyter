{
 "cells": [
  {
   "cell_type": "markdown",
   "id": "ab121f38-d70e-45c3-a397-291a16f84bda",
   "metadata": {},
   "source": [
    "# Leitura das Credenciais\n"
   ]
  },
  {
   "cell_type": "code",
   "execution_count": 8,
   "id": "59ee06a8",
   "metadata": {},
   "outputs": [],
   "source": [
    "import pandas as pd\n",
    "\n",
    "credentials_path = 'data/credentials.xlsx'\n",
    "credentials_sheet = 'Credentials'\n",
    "\n",
    "xls_in = pd.ExcelFile(credentials_path)\n",
    "credentials = pd.read_excel(xls_in, sheet_name = credentials_sheet, na_filter=False)\n",
    "\n",
    "creds = lambda name : credentials[credentials['Name'] == name]['Value'].values[0]\n",
    "\n",
    "# credentials"
   ]
  },
  {
   "cell_type": "markdown",
   "id": "f6b3c1d1-4cd5-4edd-99c2-06572f2fc82c",
   "metadata": {},
   "source": [
    "# Teste de acesso ao Odoo via \"xmlrpc\""
   ]
  },
  {
   "cell_type": "markdown",
   "id": "a8f41f24-291a-4753-a6cf-1bc02f16c2e9",
   "metadata": {},
   "source": [
    "## Accesso ao Servidor \"tkl-odoo15-jcafb25-vm\""
   ]
  },
  {
   "cell_type": "code",
   "execution_count": 9,
   "id": "c6ad3311-2129-40d6-9dff-419818978411",
   "metadata": {},
   "outputs": [
    {
     "name": "stderr",
     "output_type": "stream",
     "text": [
      "INFO:host:--> host_login https://192.168.25.210 clvhealth_jcafb_2025_15\n",
      "INFO:host:--> uid 2\n",
      "INFO:host:--> sock <ServerProxy for 192.168.25.210/xmlrpc/2/object>\n",
      "INFO:host:--> [01] Login Ok. Administrator \n",
      "INFO:host:--> {'id': 2, 'name': 'Administrator', 'parent_id': False}\n"
     ]
    },
    {
     "data": {
      "text/plain": [
       "(2, <ServerProxy for 192.168.25.210/xmlrpc/2/object>, '[01] Login Ok.')"
      ]
     },
     "execution_count": 9,
     "metadata": {},
     "output_type": "execute_result"
    }
   ],
   "source": [
    "import host\n",
    "\n",
    "host.host_login(creds('local_server'),\n",
    "                creds('local_database'),\n",
    "                creds('local_username'),\n",
    "                creds('local_password'))\n"
   ]
  },
  {
   "cell_type": "markdown",
   "id": "cb4fae19-78c8-401e-bca1-1cd8d3cd0209",
   "metadata": {},
   "source": [
    "## Accesso ao Servidor \"tkl-odoo16-vm-18\""
   ]
  },
  {
   "cell_type": "code",
   "execution_count": 10,
   "id": "803d682c-1393-47ea-8942-2ddde6a4098e",
   "metadata": {},
   "outputs": [
    {
     "name": "stderr",
     "output_type": "stream",
     "text": [
      "INFO:host:--> host_login https://192.168.25.212 clvhealth_jcafb_16\n",
      "INFO:host:--> uid 2\n",
      "INFO:host:--> sock <ServerProxy for 192.168.25.212/xmlrpc/2/object>\n",
      "INFO:host:--> [01] Login Ok. Administrator \n",
      "INFO:host:--> {'id': 2, 'name': 'Administrator', 'parent_id': False}\n"
     ]
    },
    {
     "data": {
      "text/plain": [
       "(2, <ServerProxy for 192.168.25.212/xmlrpc/2/object>, '[01] Login Ok.')"
      ]
     },
     "execution_count": 10,
     "metadata": {},
     "output_type": "execute_result"
    }
   ],
   "source": [
    "import host\n",
    "\n",
    "host.host_login(creds('remote_server'),\n",
    "                creds('remote_database'),\n",
    "                creds('remote_username'),\n",
    "                creds('remote_password'))\n"
   ]
  }
 ],
 "metadata": {
  "kernelspec": {
   "display_name": "base",
   "language": "python",
   "name": "python3"
  },
  "language_info": {
   "codemirror_mode": {
    "name": "ipython",
    "version": 3
   },
   "file_extension": ".py",
   "mimetype": "text/x-python",
   "name": "python",
   "nbconvert_exporter": "python",
   "pygments_lexer": "ipython3",
   "version": "3.12.4"
  }
 },
 "nbformat": 4,
 "nbformat_minor": 5
}
