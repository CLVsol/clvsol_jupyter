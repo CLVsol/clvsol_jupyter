{
 "cells": [
  {
   "cell_type": "markdown",
   "id": "ab121f38-d70e-45c3-a397-291a16f84bda",
   "metadata": {},
   "source": [
    "# Leitura das Credenciais\n"
   ]
  },
  {
   "cell_type": "code",
   "execution_count": 1,
   "id": "59ee06a8",
   "metadata": {},
   "outputs": [],
   "source": [
    "# import pandas as pd\n",
    "\n",
    "# credentials_path = 'data/credentials.xlsx'\n",
    "# credentials_sheet = 'Credentials'\n",
    "\n",
    "# xls_in = pd.ExcelFile(credentials_path)\n",
    "# credentials = pd.read_excel(xls_in, sheet_name = credentials_sheet, na_filter=False)\n",
    "\n",
    "# creds = lambda name : credentials[credentials['Name'] == name]['Value'].values[0]\n",
    "\n",
    "# # credentials"
   ]
  },
  {
   "cell_type": "code",
   "execution_count": 2,
   "id": "efc79d47-9d99-4747-8033-b494c6148ecb",
   "metadata": {},
   "outputs": [],
   "source": [
    "import sqlite3\n",
    "import pandas as pd\n",
    "\n",
    "conn = sqlite3.connect('data/jcafb_2025.sqlite')\n",
    "\n",
    "hosts = pd.read_sql_query('SELECT * FROM host', conn, index_col='name')\n",
    "# display(hosts.head())\n",
    "\n",
    "# conn.commit()\n",
    "conn.close()\n",
    "\n",
    "# for (index, row) in hosts.iterrows():\n",
    "#     print(row.name, row['server'])\n",
    "\n",
    "creds = lambda index, col_name : hosts.at[index, col_name]\n"
   ]
  },
  {
   "cell_type": "markdown",
   "id": "26ea9f93",
   "metadata": {},
   "source": [
    "# Criar um \"unverified https context\""
   ]
  },
  {
   "cell_type": "code",
   "execution_count": 3,
   "id": "d41e2d7d",
   "metadata": {},
   "outputs": [],
   "source": [
    "import ssl\n",
    "\n",
    "try:\n",
    "    _create_unverified_https_context = ssl._create_unverified_context\n",
    "except AttributeError:\n",
    "    # Legacy Python that doesn't verify HTTPS certificates by default\n",
    "    pass\n",
    "else:\n",
    "    # Handle target environment that doesn't support HTTPS verification\n",
    "    ssl._create_default_https_context = _create_unverified_https_context"
   ]
  },
  {
   "cell_type": "markdown",
   "id": "7db21dee",
   "metadata": {},
   "source": [
    "# Teste de acesso ao Odoo via \"erppeek\""
   ]
  },
  {
   "cell_type": "markdown",
   "id": "a68ef743",
   "metadata": {},
   "source": [
    "## Accesso ao Servidor \"tkl-odoo15-jcafb25-vm\""
   ]
  },
  {
   "cell_type": "code",
   "execution_count": 4,
   "id": "8e7059e9",
   "metadata": {},
   "outputs": [
    {
     "name": "stdout",
     "output_type": "stream",
     "text": [
      "<Client 'https://192.168.25.210/xmlrpc#()'>\n",
      "Databases found: ['clvhealth_jcafb_2025_15']\n"
     ]
    }
   ],
   "source": [
    "import erppeek\n",
    "\n",
    "host_name = 'tkl-odoo15-jcafb25-vm'\n",
    "\n",
    "client = erppeek.Client(creds(host_name, 'server'))\n",
    "print(client)\n",
    "print('Databases found: {0}'.format(client.db.list()))\n"
   ]
  },
  {
   "cell_type": "code",
   "execution_count": 5,
   "id": "0c1486be",
   "metadata": {},
   "outputs": [
    {
     "name": "stdout",
     "output_type": "stream",
     "text": [
      "<Client 'https://192.168.25.210/xmlrpc#clvhealth_jcafb_2025_15'>\n",
      "<Model 'res.users'>\n",
      "<Client 'https://192.168.25.210/xmlrpc#clvhealth_jcafb_2025_15'>\n",
      "[{'id': 8, 'name': 'Alex Monteiro Magalhães', 'login': 'alex.magalhaes@gmail.com'}, {'id': 9, 'name': 'Alexandre Bakanovas', 'login': 'alexandre.bakanovas@usp.br'}, {'id': 10, 'name': 'Alice Herminia Serpentino', 'login': 'aliceherminia@gmail.com'}, {'id': 11, 'name': 'Alice Mota Almeida', 'login': 'alice.m.almeida@usp.br'}, {'id': 12, 'name': 'Aline Dias da Purificação ', 'login': 'alinepdias1998@gmail.com'}, {'id': 232, 'name': 'Allanis Catharina Pimenta Corrêa', 'login': 'allanis.correa@usp.br'}, {'id': 13, 'name': 'Amanda Atanes Buss', 'login': 'amanda.buss@usp.br'}, {'id': 14, 'name': 'Amanda Christine Rodrigues Silveira ', 'login': 'amandinha.christine@gmail.com '}, {'id': 15, 'name': 'Amanda Medeiros Furquim', 'login': 'amandafurquim@usp.br'}, {'id': 16, 'name': 'Amanda Turno da Silva', 'login': 'amandaturno@usp.br'}, {'id': 233, 'name': 'Ana Flávia Akemi Takeda', 'login': 'anatakeda@usp.br'}, {'id': 17, 'name': 'Ana Lua Pires Fonseca Tavares', 'login': 'aanaluatavares07@gmail.com'}, {'id': 18, 'name': 'Ana Luiza Fioravante', 'login': 'ana_fioravante@outlook.com'}, {'id': 19, 'name': 'Ana Luiza Vilela Strapazon', 'login': 'anastrapazon@usp.br'}, {'id': 20, 'name': 'Ana Vitória Bandeira Petilo de Carvalho', 'login': 'ana.vitoria.carvalho@usp.br'}, {'id': 21, 'name': 'Andreas Genesi e SIlva', 'login': 'andreas.genesi@gmail.com'}, {'id': 22, 'name': 'Anna Carolina Saes Ferreira', 'login': 'anna.saes@hotmail.com'}, {'id': 23, 'name': 'Annick Desmonts Silva', 'login': 'annick_desmonts@hotmail.com'}, {'id': 24, 'name': 'Barbara de Carvalho Simões da Fonseca', 'login': 'ba.csfonseca@gmail.com'}, {'id': 25, 'name': 'Beatriz Batista', 'login': 'bea_trix1995@hotmail.com'}, {'id': 26, 'name': 'Beatriz Cerdá Mendes de Araujo', 'login': 'beatrizcerda.jcafb@gmail.com'}, {'id': 27, 'name': 'Beatriz Hashimoto Ito', 'login': 'beatriz.ito@usp.br'}, {'id': 28, 'name': 'Beatriz In Soon Chang', 'login': 'beatrizischang@gmail.com'}, {'id': 234, 'name': 'Beatriz Isadora Buno', 'login': 'beatrizi.buno@usp.br'}, {'id': 29, 'name': 'Beatriz Lucio Bueno', 'login': 'beatrizluciob@gmail.com'}, {'id': 30, 'name': 'Beatriz Magalhães Eng', 'login': 'biaeng98@gmail.com'}, {'id': 31, 'name': 'Beatriz Mayumi Peixinho', 'login': 'biapeixinho.21@gmail.com'}, {'id': 32, 'name': 'Beatriz Rossi Bonin', 'login': 'beatriz.bonin98@gmail.com'}, {'id': 235, 'name': 'Beatriz Tomassetti Couto', 'login': 'coutotbeatriz@usp.br'}, {'id': 33, 'name': 'Beatriz de Mendonça Rocha', 'login': 'beatrz.mendonca.rocha@usp.br'}, {'id': 34, 'name': 'Bianca Andrade Nicolau', 'login': 'bianca.an2000@usp.br'}, {'id': 35, 'name': 'Bianca Beloni', 'login': 'bianca.beloni@usp.br'}, {'id': 236, 'name': 'Bruna Bezerra Soares da Palma', 'login': 'brunabezerrasoaresdapalma@usp.br'}, {'id': 36, 'name': 'Bruna Bianchini Real', 'login': 'brunabreal@gmail.com'}, {'id': 37, 'name': 'Bruna Giacometti Colasuonno', 'login': 'brunagiacometti@gmail.com'}, {'id': 38, 'name': 'Bruna Lohmann Menezes', 'login': 'bruna.loh.menezes@gmail.com'}, {'id': 39, 'name': 'Bruna Prates Garcia', 'login': 'brunapratesg@gmail.com'}, {'id': 40, 'name': 'Bruno Borges da Silva', 'login': 'bruno.borges75@gmail.com'}, {'id': 41, 'name': 'Bruno Siraiama', 'login': 'bsiraiama@usp.br'}, {'id': 42, 'name': 'Bárbara Maffei Sampaio', 'login': 'barbaramaffeisampaio@gmail.com'}, {'id': 43, 'name': 'Camila Damásio de Paula', 'login': 'camila.damasio05@gmail.com'}, {'id': 44, 'name': 'Camila Junqueira Coelho', 'login': 'camilajunqueiracoelho@gmail.com'}, {'id': 45, 'name': 'Camila Salinas Guillaux', 'login': 'csguillaux@gmail.com'}, {'id': 46, 'name': 'Carla Carminato', 'login': 'mv.carla.carminato@gmail.com'}, {'id': 47, 'name': 'Carla Pantarotto Boni', 'login': 'carlapantarotto@gmail.com'}, {'id': 48, 'name': 'Carlos Eduardo Vercelino', 'login': 'carlos.vercelino@gmail.com'}, {'id': 49, 'name': 'Carolina Dimitrov Ribeiro', 'login': 'senhorita.carolina@gmail.com'}, {'id': 50, 'name': 'Carolina Emy Ono Leal', 'login': 'carol.eoleal@usp.br'}, {'id': 51, 'name': 'Carolina Meyn Teixeira', 'login': 'carolmeyn@gmail.com'}, {'id': 52, 'name': 'Caroline Aparecida Gonçalves', 'login': 'carol.apgon@gmail.com'}, {'id': 53, 'name': 'Caroline Araskiro Pessoa', 'login': 'carol.araskiropessoa@gmail.com'}, {'id': 54, 'name': 'Caroline Lei Preti', 'login': 'carolineleip@usp.br'}, {'id': 55, 'name': 'Caroline Taira Takara', 'login': 'tkr.carol@usp.br'}, {'id': 56, 'name': 'Catharine Fonseca Martins Ermida', 'login': 'catharineermida@gmail.com'}, {'id': 237, 'name': 'Celine Victorino Nascimento', 'login': 'ceevic04@usp.com.br'}, {'id': 57, 'name': 'Cibeli Lopes Gomes Cardoso', 'login': 'cibeli.lgcardoso@gmail.com'}, {'id': 58, 'name': 'Clarissa Zanoni Kera Arantes', 'login': 'czkera@gmail.com'}, {'id': 238, 'name': 'Cristiane da Cruz Brazão', 'login': 'cristianecruz@usp.br'}, {'id': 239, 'name': 'Daniel Barone Menezes', 'login': 'danibaronemenezes@usp.br'}, {'id': 59, 'name': 'Daniela Valdivieso', 'login': 'daniela.valdivieso@usp.br'}, {'id': 7, 'name': 'Data Administrator', 'login': 'data.admin'}, {'id': 6, 'name': 'Demo User', 'login': 'demo'}, {'id': 60, 'name': 'Diego Henrique Matilla Soares', 'login': 'dhenrique789@gmail.com'}, {'id': 61, 'name': 'Diva Sayuri Gomes Yamazaki', 'login': 'sayurigomes2015@gmail.com'}, {'id': 263, 'name': 'Eloísa Aparecida Vilas Bôas', 'login': 'elovilasboas@usp.br'}, {'id': 62, 'name': 'Fabiana Lumy Yamada', 'login': 'fabiana_lumy@usp.br'}, {'id': 240, 'name': 'Fabio Hideki Fernandes Komyama', 'login': 'fabio.hideki@usp.br'}, {'id': 63, 'name': 'Fabio Hideki Miashiro', 'login': 'fabinhomiashiro@gmail.com'}, {'id': 64, 'name': 'Fabio Taylor Bolsoni', 'login': 'fabio_tayloor@hotmail.com'}, {'id': 65, 'name': 'Felipe Barboza Galhardo', 'login': 'felipebgalhardo.jcafb@gmail.com'}, {'id': 66, 'name': 'Felipe Guizze de Souza', 'login': 'felipeguizze@usp.br'}, {'id': 67, 'name': 'Felipe de Abreu Sodré Brandão', 'login': 'felipe.as.brandao@outlook.com'}, {'id': 68, 'name': 'Fernanda Merchiori Gerolamo', 'login': 'fernanda.merchiori@usp.br'}, {'id': 69, 'name': 'Filipe Aguera Pinheiro', 'login': 'filipe.aguera@gmail.com'}, {'id': 241, 'name': 'Flávia Yuri Miake', 'login': 'fyuriii@usp.br'}, {'id': 70, 'name': 'Gabriel Ferreira Silvestre da Silva', 'login': 'gabsilvestrejcafb@gmail.com'}, {'id': 71, 'name': 'Gabriel Martins Jorge', 'login': 'ga.jorge@hotmail.com'}, {'id': 72, 'name': 'Gabriel Pascarelli Roth', 'login': 'gabrielroth17@gmail.com'}, {'id': 242, 'name': 'Gabriel Seixeiro Soares', 'login': 'gabrielseixeiro@usp.br'}, {'id': 73, 'name': 'Gabriela Nabeiro', 'login': 'gabriela.nabeiro@gmail.com'}, {'id': 74, 'name': 'Gabriela Otofuji Pereira', 'login': 'gabriela.otofuji@gmail.com'}, {'id': 75, 'name': 'Gabriela Pereira Rodrigues', 'login': 'rodriguespe.gabriela@gmail.com'}, {'id': 76, 'name': 'Gabriela Vicente Lima', 'login': 'gabriela.lvicente@gmail.com'}, {'id': 77, 'name': 'Gabriella da Silva Luz', 'login': 'gabriella.luz14@gmail.com'}, {'id': 78, 'name': 'Gabrielle Vitória de Faria Ferreira', 'login': 'gabiferreirajcafb@gmail.com'}, {'id': 260, 'name': 'Gabrielle de Almeida Cobra', 'login': 'gabrielle.cobra@usp.br'}, {'id': 79, 'name': 'Giovana Castilho Pereira', 'login': 'giovana.c.pereira09@usp.br'}, {'id': 80, 'name': 'Giovana Ferreira Baroni', 'login': 'gifbaroni@gmail.com'}, {'id': 81, 'name': 'Giovana Molgado de Oliveira', 'login': 'giovana.molgado@usp.br'}, {'id': 82, 'name': 'Giovanna Alencar de Carvalho', 'login': 'gii.carvalho@hotmail.com'}, {'id': 83, 'name': 'Giovanna Ribeiro Navarro', 'login': 'giovanna.navarro@usp.br'}, {'id': 84, 'name': 'Giovanna de Maria Rocha Fonseca', 'login': 'giovanna_fonseca@hotmail.com'}, {'id': 85, 'name': 'Grupo 01 (2017)', 'login': 'grupo.01.2017@gmail.com'}, {'id': 86, 'name': 'Grupo 02 (2017)', 'login': 'grupo.02.2017@gmail.com'}, {'id': 87, 'name': 'Grupo 03 (2017)', 'login': 'grupo.03.2017@gmail.com'}, {'id': 88, 'name': 'Grupo 04 (2017)', 'login': 'grupo.04.2017@gmail.com'}, {'id': 89, 'name': 'Grupo 05 (2017)', 'login': 'grupo.05.2017@gmail.com'}, {'id': 90, 'name': 'Grupo 06 (2017)', 'login': 'grupo.06.2017@gmail.com'}, {'id': 91, 'name': 'Grupo 07 (2017)', 'login': 'grupo.07.2017@gmail.com'}, {'id': 92, 'name': 'Grupo 08 (2017)', 'login': 'grupo.08.2017@gmail.com'}, {'id': 93, 'name': 'Grupo 09 (2017)', 'login': 'grupo.09.2017@gmail.com'}, {'id': 94, 'name': 'Grupo 10 (2017)', 'login': 'grupo.10.2017@gmail.com'}, {'id': 95, 'name': 'Grupo 11 (2017)', 'login': 'grupo.11.2017@gmail.com'}, {'id': 96, 'name': 'Grupo 12 (2017)', 'login': 'grupo.12.2017@gmail.com'}, {'id': 97, 'name': 'Grupo 13 (2017)', 'login': 'grupo.13.2017@gmail.com'}, {'id': 98, 'name': 'Grupo 14 (2017)', 'login': 'grupo.14.2017@gmail.com'}, {'id': 99, 'name': 'Grupo 15 (2017)', 'login': 'grupo.15.2017@gmail.com'}, {'id': 100, 'name': 'Grupo 16 (2017)', 'login': 'grupo.16.2017@gmail.com'}, {'id': 101, 'name': 'Guilherme Ramos Benevides', 'login': 'guilhermebenevides@usp.br'}, {'id': 102, 'name': 'Guilherme Souza Macário', 'login': 'guilherme.macario.camp@gmail.com'}, {'id': 103, 'name': 'Gustavo Luiz Lopes Franco', 'login': 'gusta.franco@hotmail.com'}, {'id': 104, 'name': 'Gustavo Solla Mathias', 'login': 'gustavosollaa@gmail.com'}, {'id': 105, 'name': 'Gustavo Vaiano Carapeto', 'login': 'gu.carapeto@hotmail.com'}, {'id': 106, 'name': 'Helena Constância de Melo Tozetto', 'login': 'le.tozetto@gmail.com'}, {'id': 107, 'name': 'Helena Yeong Shin Cheong Chen', 'login': 'helenayscc@gmail.com'}, {'id': 243, 'name': 'Isabela Sinopoli Piccolo', 'login': 'Isapiccolo@usp.br'}, {'id': 108, 'name': 'Isabella Corrêa von Wallwitz', 'login': 'isabella.wallwitz@gmail.com'}, {'id': 109, 'name': 'Isabella Isolica', 'login': 'isabella.isolica@gmail.com'}, {'id': 245, 'name': 'Isabella Kimie Tani de Oliveira', 'login': 'isabellak@usp.br'}, {'id': 110, 'name': 'Isabella Paulino Otvos', 'login': 'isabella.otvos@gmail.com'}, {'id': 244, 'name': 'Isabella de Carvalho Bragiotti', 'login': 'isabella.bragiotti@usp.br'}, {'id': 111, 'name': 'Isis Azeka Indig', 'login': 'isis_azeka@usp.br'}, {'id': 262, 'name': 'Jean Bispo dos Santos', 'login': 'jeansantos805@usp.br'}, {'id': 112, 'name': 'Jean Marques Brizola', 'login': 'jeanmarquesbrizola@gmail.com'}, {'id': 113, 'name': 'Jean Vinicius Serafim Da Silva', 'login': 'jean.vinicius.silva@usp.br'}, {'id': 114, 'name': 'Jeanine Giarolla Vargas', 'login': 'jeaninegiarolla@yahoo.com.br'}, {'id': 115, 'name': 'Jessica De Alcantara Ferreira', 'login': 'jessica.alcantara.ferreira@usp.br'}, {'id': 116, 'name': 'Ji Won Park', 'login': 'ji.park@usp.br'}, {'id': 117, 'name': 'Jonas Gruber', 'login': 'jogruber@iq.usp.br'}, {'id': 118, 'name': 'Jonatas Elias Rita', 'login': 'ejonatasr@outlook.com'}, {'id': 119, 'name': 'Jordana Messias Marques', 'login': 'jordana.marques@usp.br'}, {'id': 120, 'name': 'José Cesar Menk Pinto Lima', 'login': 'cesarmenk@gmail.com'}, {'id': 121, 'name': 'José Henrique Pereira Santos Tavares', 'login': 'josehenriquepstav@gmail.com'}, {'id': 122, 'name': 'João Victor Cabral Costa', 'login': 'jvccosta@gmail.com'}, {'id': 123, 'name': 'Julia Brediks Prada', 'login': 'juliaprada07@gmail.com'}, {'id': 124, 'name': 'Julia Celidonio Armond', 'login': 'julia.carmond@hotmail.com'}, {'id': 125, 'name': \"Julia Diziró de Sant'Anna\", 'login': 'juliadiziro@usp.br'}, {'id': 246, 'name': 'Julia Estevam da Silva Pestana', 'login': 'julia.es.pestana@usp.br'}, {'id': 248, 'name': 'Julia Ribeiro Rocha', 'login': 'julia.rrocha@usp.br'}, {'id': 126, 'name': 'Juliana Neves Rodrigues Ract', 'login': 'julianaract@usp.br'}, {'id': 127, 'name': 'Juliana Rodrigues da Conceição', 'login': 'juh-rodrigues2010@hotmail.com'}, {'id': 128, 'name': 'Juçara Guiçardi Vercelino', 'login': 'ju.vercelino@gmail.com'}, {'id': 129, 'name': 'Jéssica Günther Montero Fanizzi', 'login': 'jessicafarmausp@gmail.com'}, {'id': 130, 'name': 'Jéssica Rumi Koiama', 'login': 'jessicakoiama@gmail.com'}, {'id': 131, 'name': 'Júlia Aluotto de Oliveira', 'login': 'julia.aluotto@usp.br'}, {'id': 132, 'name': 'Júlia Celestino Seraphim', 'login': 'julia.seraphim009@gmail.com'}, {'id': 247, 'name': 'Júlia Maringolo Buzatto', 'login': 'juliabuzatto@usp.br'}, {'id': 133, 'name': 'Júlia Sapienza Passos', 'login': 'juliasapienzapassos@gmail.com'}, {'id': 134, 'name': 'Kamila Hitomi Garan', 'login': 'kamilahitomi@usp.br'}, {'id': 135, 'name': 'Karen Vasconcelos de Freitas', 'login': 'kavasfreitas@gmail.com'}, {'id': 249, 'name': 'Karina Prates Rodrigues da Silva', 'login': 'karina.prates.silva@usp.br'}, {'id': 136, 'name': 'Karoline Santana Oliveira', 'login': 'karoline.santana0411@usp.br'}, {'id': 137, 'name': 'Katarine Arissa Terasaka', 'login': 'katy.terasaka@gmail.com'}, {'id': 138, 'name': 'Kelly Matsumura', 'login': 'kelly.matsumura5@gmail.com'}, {'id': 139, 'name': 'Lab-JCAFB-2018', 'login': 'Lab-JCAFB-2018'}, {'id': 140, 'name': 'Lab-JCAFB-2019', 'login': 'Lab-JCAFB-2019'}, {'id': 141, 'name': 'Lais Mariko Oi', 'login': 'lais.mariko@usp.br'}, {'id': 142, 'name': 'Larissa Pagani Gomes', 'login': 'laripaganisz@gmail.com'}, {'id': 143, 'name': 'Larissa Policeno Borges', 'login': 'lariipoliceno@gmail.com'}, {'id': 144, 'name': 'Larissa Prechedes', 'login': 'splarissa@gmail.com'}, {'id': 145, 'name': 'Laís Bertoldo Frazão', 'login': 'lais.bfrazao@usp.br'}, {'id': 146, 'name': 'Laís Moreira', 'login': 'lais.moreira_1@hotmail.com'}, {'id': 147, 'name': 'Laís Rigon', 'login': 'laisrigon94@gmail.com'}, {'id': 148, 'name': 'Leonardo Baird de Freitas', 'login': 'lbfreitas@usp.br'}, {'id': 149, 'name': 'Leonardo da Cunha Marques', 'login': 'leo.cmarques@gmail.com'}, {'id': 150, 'name': 'Leonardo de Faria Figueiredo', 'login': 'lfariafigueiredo@usp.br'}, {'id': 151, 'name': 'Letícia Maeda Cajaíba', 'login': 'maeda.let@gmail.com'}, {'id': 152, 'name': 'Luana Bufalari Soares da Silva', 'login': 'bufalariluana@gmail.com'}, {'id': 153, 'name': 'Luana Correia Croda Catharino', 'login': 'luana_correia@usp.br'}, {'id': 154, 'name': 'Luana Gasparini Dos Santos', 'login': 'luuanagasparini@gmail.com'}, {'id': 155, 'name': 'Luani Takasugui Damasceno', 'login': 'luanitdamasceno@gmail.com'}, {'id': 156, 'name': 'Lucas Caetano Araújo Silva', 'login': 'lucas.caetano.ismart@gmail.com'}, {'id': 157, 'name': 'Lucas Fraga Faria', 'login': 'lucas.faria72@usp.br'}, {'id': 158, 'name': 'Lucas Kenzo Yassumoto Suguimati', 'login': 'lucassuguimati@usp.br'}, {'id': 159, 'name': 'Lucas Pereira', 'login': 'lucas.rp@usp.br'}, {'id': 160, 'name': 'Lucas de Oliveira Barradas', 'login': 'lucas.barradas@usp.br'}, {'id': 161, 'name': 'Lucas de Oliveira Cambuim', 'login': 'lucasoliveiracambuim@usp.br'}, {'id': 162, 'name': 'Luiz Eduardo Massao Takara', 'login': 'dudu.takara@gmail.com'}, {'id': 163, 'name': 'Luiza Capello De Martino', 'login': 'luiza.martino@usp.br'}, {'id': 164, 'name': 'Luís Carlos Fogaça dos Santos', 'login': 'luisfogaca.jcafb@gmail.com'}, {'id': 165, 'name': 'Luís Fernando Lima Moura', 'login': 'lfernandolima00@usp.br'}, {'id': 231, 'name': 'Magali da Silva Pacheco Nobre Rossi', 'login': 'mnobre@usp.br'}, {'id': 166, 'name': 'Manuela Garcia Alves', 'login': 'manuela.garcia@usp.br'}, {'id': 167, 'name': 'Marcos Antônio Parreira Filho', 'login': 'mah.antofi@gmail.com'}, {'id': 168, 'name': 'Maria Clara Dias', 'login': 'mclaradias.mcd@gmail.com'}, {'id': 250, 'name': 'Maria Luiza Marcondes Galhardo', 'login': 'mluizagalhardo@usp.br'}, {'id': 169, 'name': 'Mariana de Almeida Zaine', 'login': 'mariana.a.zaine@gmail.com'}, {'id': 170, 'name': 'Mariana de Sousa Silva', 'login': 'mariana.sousasilva03@usp.br'}, {'id': 251, 'name': 'Marina Celis Teixeira', 'login': 'marinacelis@usp.br'}, {'id': 230, 'name': 'Marília Berlofa Visacri', 'login': 'mariberlofa@gmail.com'}, {'id': 252, 'name': 'Mateus Pazini Silva', 'login': 'mateuspazini2005@usp.br'}, {'id': 171, 'name': 'Mauricio Loturco de Resende', 'login': 'mauriciolresende@gmail.com'}, {'id': 172, 'name': 'Mayara Spadari da Costa Moura', 'login': 'mayspadarijcafb@gmail.com'}, {'id': 173, 'name': 'Melissa Rodrigues Fernandes Soares', 'login': 'melissa_soares@usp.br'}, {'id': 174, 'name': 'Michele Lika Furuya', 'login': 'michelelika@usp.br'}, {'id': 175, 'name': 'Michelle Cavallaro de Melo Cardia', 'login': 'michelle.cardia@usp.br'}, {'id': 176, 'name': 'Milena Soares Torres', 'login': 'milenastorres@usp.br'}, {'id': 253, 'name': 'Monyki Amanda da Silva Teixeira', 'login': 'monyki.teixeira@usp.br'}, {'id': 177, 'name': 'Nadine Santana da Silva', 'login': 'nadine.santana@gmail.com'}, {'id': 178, 'name': 'Natalia Granusso Geratto', 'login': 'nataliaggeratto@usp.br'}, {'id': 254, 'name': 'Nathalia Lumy Ando Kamiya', 'login': 'lumykamiya@usp.br'}, {'id': 255, 'name': 'Nathan de Azevedo Capelo', 'login': 'nathan_farma@usp.br'}, {'id': 179, 'name': 'Natália de Oliveira Cegalla', 'login': 'nataliacegalla@gmail.com'}, {'id': 180, 'name': 'Nicholas Aparecido Dias David', 'login': 'nicholasdavid@usp.br'}, {'id': 181, 'name': 'Osvaldo Hatisuka de Carvalho', 'login': 'osvaldo.hatisuka@usp.br'}, {'id': 182, 'name': 'Paola Revolti de Almeida', 'login': 'parevolti@gmail.com'}, {'id': 183, 'name': 'Paula Faria Prilip', 'login': 'pafapri1994@gmail.com'}, {'id': 184, 'name': 'Paula Takahashi Benitez', 'login': 'pah.benitez@gmail.com'}, {'id': 185, 'name': 'Paula Viana Arrais Souza', 'login': 'paulinha.viana.999@gmail.com'}, {'id': 186, 'name': 'Pedro Henrique Araújo Bandeira', 'login': 'pedroh.pharm@usp.br'}, {'id': 187, 'name': 'Primavera Borelli', 'login': 'primaveraborelli53@gmail.com'}, {'id': 188, 'name': 'Rachel Pereira Trunk', 'login': 'rachel23trunk@gmail.com'}, {'id': 189, 'name': 'Rafaela Tardelli Andreoni', 'login': 'ra.andreoni@gmail.com'}, {'id': 190, 'name': 'Raffaele Pinhata', 'login': 'raffaele.pinhata@gmail.com'}, {'id': 191, 'name': 'Raphael Carvalho Beraldo', 'login': 'raphaelberaldo@usp.br '}, {'id': 192, 'name': 'Raquel dos Santos Lucena', 'login': 'raquelsanluc@gmail.com'}, {'id': 193, 'name': 'Rebeca de Souza', 'login': 'rebecadsouza128@gmail.com'}, {'id': 194, 'name': 'Rebecca Ferreira Leite', 'login': 'becca.ferreiraleite@gmail.com'}, {'id': 195, 'name': 'Renan Oliveira Nunes de Souza', 'login': 'renan.ons18@gmail.com'}, {'id': 196, 'name': 'Rhyann Sodré dos Santos', 'login': 'rhyannsodre@gmail.com'}, {'id': 256, 'name': 'Rodrigo Gasparotto Barbosa', 'login': 'rodrigo.gasparotto.barbosa@usp.br'}, {'id': 197, 'name': 'Rodrigo Gonçalves Queijo', 'login': 'rodrigogoncalvesqueijo@gmail.com'}, {'id': 198, 'name': 'Rodrigo Mazzeo Juliano', 'login': 'rodrigo.mazzeo7@gmail.com'}, {'id': 199, 'name': 'Ruth Nusbaum', 'login': 'ruth.nusbaum@gmail.com'}, {'id': 200, 'name': 'Sabrina Acioli Lins', 'login': 'sabrina.acioli@usp.br'}, {'id': 201, 'name': 'Sabrina Epiphanio', 'login': 'sabrina.epiphanio@gmail.com'}, {'id': 202, 'name': 'Sara Souza Santiago de Oliveira', 'login': 'sarassoliveira19@gmail.com'}, {'id': 203, 'name': 'Sarah de Araújo Sprengel', 'login': 'sarahsprengeljcafb@gmail.com'}, {'id': 204, 'name': 'Sofia Schalka', 'login': 'sofiaschalka@gmail.com'}, {'id': 205, 'name': 'Soraia Caldas Araújo', 'login': 'soraiacaldas@usp.br'}, {'id': 206, 'name': 'Stefanie de Souza Lima', 'login': 'stefanies.lima225@gmail.com'}, {'id': 207, 'name': 'Stephanie Sung Shin Cho', 'login': 'stephaniecho019@gmail.com'}, {'id': 208, 'name': 'Suelen Martins da Costa', 'login': 'suelenmartins.jcafb@gmail.com'}, {'id': 209, 'name': 'Susanna Tawata Tamachiro', 'login': 'susanna2tt@gmail.com'}, {'id': 210, 'name': 'Susiandra Kloster Munhoz', 'login': 'susi.kloster@hotmail.com'}, {'id': 211, 'name': \"Tabata Cristina Sant'Anna\", 'login': 'tabata.c.anna@gmail.com'}, {'id': 212, 'name': 'Talita Araujo Kaminski', 'login': 'talita.kaminski@gmail.com'}, {'id': 257, 'name': 'Tarik Daniel de Santana Kissuani', 'login': 'tarik.kissuani@usp.br'}, {'id': 213, 'name': 'Thais Cristine Pereira Alves', 'login': 'alvesthaiscristine@gmail.com'}, {'id': 214, 'name': 'Thamires Amorim Silva', 'login': 'thamires_silva@usp.br'}, {'id': 215, 'name': 'Thifany da Silva Ribeiro', 'login': 'thifanyribeiro1999@gmail.com'}, {'id': 216, 'name': 'Valdir Azevedo dos Santos', 'login': 'valdirs@hu.usp.br'}, {'id': 261, 'name': 'Vanessa Barbosa Malaquias', 'login': 'malaquiasvb@usp.br'}, {'id': 217, 'name': \"Vanessa D'Amaro Juodinis\", 'login': 'vanessajuodinis@gmail.com'}, {'id': 258, 'name': 'Victor Jun Notoya Abe', 'login': 'victor.jun@usp.br'}, {'id': 218, 'name': 'Victória Brigatto Esteves', 'login': 'victoria.brigatto@gmail.com'}, {'id': 219, 'name': 'Victória Guimarães Dalatorre', 'login': 'vicdalatorrejcafb@gmail.com'}, {'id': 220, 'name': 'Vinicius Lima Faustino', 'login': 'vinilima@usp.br'}, {'id': 221, 'name': 'Vinicius Rodrigues Neugebauer', 'login': 'vinicius.neugebauer@usp.br'}, {'id': 259, 'name': 'Vinicius Yoshio Ramos Okasaki', 'login': 'vini2701@gmail.com'}, {'id': 222, 'name': 'Vinícius Albuquerque Moreira de Souza', 'login': 'vini.albu@usp.br'}, {'id': 223, 'name': 'Vinícius Perez dos Santos', 'login': 'viniciusperez.vet@gmail.com'}, {'id': 224, 'name': 'Vitor Paiva Frazão', 'login': 'vitorpaiva.farma@usp.br'}, {'id': 225, 'name': 'Vitória Alves da Silva Varollo', 'login': 'vitoriavarollo@usp.br'}, {'id': 226, 'name': 'Vitória Monteiro Bernardo', 'login': 'vitoria.monteirob@gmail.com'}, {'id': 227, 'name': 'Wallace Androm Gomez Junior', 'login': 'wallaceandrom@usp.br'}, {'id': 228, 'name': 'Yasmin Catharine da Paz Mendonça', 'login': 'yasminpaz@usp.br'}, {'id': 229, 'name': 'Zaira Maria De Sousa Pinheiro', 'login': 'zairapinheiro12@gmail.com'}]\n",
      "<Client 'https://192.168.25.210/xmlrpc#clvhealth_jcafb_2025_15'>\n",
      "[{'id': 2, 'name': 'Administrator', 'login': 'admin'}]\n",
      "<Client 'https://192.168.25.210/xmlrpc#clvhealth_jcafb_2025_15'>\n",
      "[{'id': 2, 'name': 'Administrator', 'login': 'admin'}, {'id': 10, 'name': 'Alice Herminia Serpentino', 'login': 'aliceherminia@gmail.com'}, {'id': 12, 'name': 'Aline Dias da Purificação ', 'login': 'alinepdias1998@gmail.com'}]\n"
     ]
    }
   ],
   "source": [
    "connect = lambda : erppeek.Client(creds(host_name, 'server'),\n",
    "                                        creds(host_name, 'dbname'),\n",
    "                                        creds(host_name, 'user'),\n",
    "                                        creds(host_name, 'user_pw'))\n",
    "\n",
    "client = connect()\n",
    "print(client)\n",
    "\n",
    "client._browse_compat = True\n",
    "\n",
    "ResUsers = client.model('res.users')\n",
    "print(ResUsers)\n",
    "\n",
    "domain = []\n",
    "users = ResUsers.browse(domain, limit=None)\n",
    "\n",
    "client = connect()\n",
    "print(client)\n",
    "print(client.read('res.users', [('name', '!=', 'Administrator'), ], ('id', 'name', 'login')))\n",
    "\n",
    "client = connect()\n",
    "print(client)\n",
    "print(client.read('res.users', [('name', '=', 'Administrator'), ], ('id', 'name', 'login')))\n",
    "\n",
    "client = connect()\n",
    "print(client)\n",
    "print(client.read('res.users', [2, 10, 12], ('id', 'name', 'login')))\n"
   ]
  },
  {
   "cell_type": "markdown",
   "id": "76d4f9c2",
   "metadata": {},
   "source": [
    "## Accesso ao Servidor \"tkl-odoo16-vm-18\"\n"
   ]
  },
  {
   "cell_type": "code",
   "execution_count": 6,
   "id": "37396ec9",
   "metadata": {},
   "outputs": [
    {
     "name": "stdout",
     "output_type": "stream",
     "text": [
      "<Client 'https://192.168.25.212/xmlrpc#()'>\n",
      "Databases found: ['clvhealth_jcafb_16']\n"
     ]
    }
   ],
   "source": [
    "import erppeek\n",
    "\n",
    "host_name = 'tkl-odoo16-vm-18'\n",
    "\n",
    "client = erppeek.Client(creds(host_name, 'server'))\n",
    "print(client)\n",
    "print('Databases found: {0}'.format(client.db.list()))\n"
   ]
  },
  {
   "cell_type": "code",
   "execution_count": 9,
   "id": "abe7dfe9",
   "metadata": {},
   "outputs": [
    {
     "name": "stdout",
     "output_type": "stream",
     "text": [
      "<Client 'https://192.168.25.212/xmlrpc#clvhealth_jcafb_16'>\n",
      "<Model 'res.users'>\n",
      "<RecordList 'res.users,[2, 6]'>\n",
      "<Client 'https://192.168.25.212/xmlrpc#clvhealth_jcafb_16'>\n",
      "[{'id': 6, 'name': 'Data Administrator', 'login': 'data.admin'}]\n",
      "<Client 'https://192.168.25.212/xmlrpc#clvhealth_jcafb_16'>\n",
      "[{'id': 2, 'name': 'Administrator', 'login': 'admin'}]\n",
      "<Client 'https://192.168.25.212/xmlrpc#clvhealth_jcafb_16'>\n",
      "[{'id': 2, 'name': 'Administrator', 'login': 'admin'}, {'id': 6, 'name': 'Data Administrator', 'login': 'data.admin'}]\n"
     ]
    }
   ],
   "source": [
    "client = connect()\n",
    "print(client)\n",
    "\n",
    "client._browse_compat = True\n",
    "\n",
    "ResUsers = client.model('res.users')\n",
    "print(ResUsers)\n",
    "\n",
    "domain = []\n",
    "users = ResUsers.browse(domain, limit=None)\n",
    "print(users)\n",
    "\n",
    "client = connect()\n",
    "print(client)\n",
    "print(client.read('res.users', [('name', '!=', 'Administrator'), ], ('id', 'name', 'login')))\n",
    "\n",
    "client = connect()\n",
    "print(client)\n",
    "print(client.read('res.users', [('name', '=', 'Administrator'), ], ('id', 'name', 'login')))\n",
    "\n",
    "client = connect()\n",
    "print(client)\n",
    "print(client.read('res.users', [2, 6], ('id', 'name', 'login')))\n"
   ]
  },
  {
   "cell_type": "code",
   "execution_count": null,
   "id": "950e049b-b41e-41c2-a5dc-8f647be02357",
   "metadata": {},
   "outputs": [],
   "source": []
  }
 ],
 "metadata": {
  "kernelspec": {
   "display_name": "Python 3 (ipykernel)",
   "language": "python",
   "name": "python3"
  },
  "language_info": {
   "codemirror_mode": {
    "name": "ipython",
    "version": 3
   },
   "file_extension": ".py",
   "mimetype": "text/x-python",
   "name": "python",
   "nbconvert_exporter": "python",
   "pygments_lexer": "ipython3",
   "version": "3.12.2"
  }
 },
 "nbformat": 4,
 "nbformat_minor": 5
}
