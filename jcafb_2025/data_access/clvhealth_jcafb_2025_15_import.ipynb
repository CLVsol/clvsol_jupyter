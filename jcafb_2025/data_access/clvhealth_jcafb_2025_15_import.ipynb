{
 "cells": [
  {
   "cell_type": "markdown",
   "id": "678e4bc0-2b26-40fb-b7d4-6655dbc073a1",
   "metadata": {},
   "source": [
    "# Importação dos dados do Banco de Dados \"clvhealth_jcafb_2025_15\""
   ]
  },
  {
   "cell_type": "markdown",
   "id": "5443b206-d73c-4df7-a900-2ae88e5bb1bb",
   "metadata": {},
   "source": [
    "## Leitura das Credenciais"
   ]
  },
  {
   "cell_type": "code",
   "execution_count": 1,
   "id": "9ff527b2-943f-4847-9e3e-ee845e77f8d9",
   "metadata": {},
   "outputs": [],
   "source": [
    "import sqlite3\n",
    "import pandas as pd\n",
    "\n",
    "conn = sqlite3.connect('data/jcafb_2025.db')\n",
    "\n",
    "hosts = pd.read_sql_query('SELECT * FROM host', conn, index_col='name')\n",
    "\n",
    "conn.close()\n",
    "\n",
    "creds = lambda index, col_name : hosts.at[index, col_name]\n"
   ]
  },
  {
   "cell_type": "markdown",
   "id": "03e03631-7a61-4dc8-aa3d-ad9d81732cbf",
   "metadata": {},
   "source": [
    "## Parâmetros globais"
   ]
  },
  {
   "cell_type": "code",
   "execution_count": 2,
   "id": "fa0af243-a136-45c8-87f4-5b70ff30a561",
   "metadata": {},
   "outputs": [],
   "source": [
    "import logging\n",
    "# import host\n",
    "import ssl\n",
    "\n",
    "logging.basicConfig(level=logging.DEBUG)\n",
    "_logger = logging.getLogger(__name__)\n",
    "\n",
    "host_name = 'tkl-odoo15-jcafb25-vm'\n",
    "# host_name = 'tkl-odoo16-vm-18'\n",
    "\n",
    "ssl._create_default_https_context = ssl._create_unverified_context\n",
    "ctx = ssl.create_default_context()\n",
    "ctx.check_hostname = False\n",
    "ctx.verify_mode = ssl.CERT_NONE\n"
   ]
  },
  {
   "cell_type": "code",
   "execution_count": 3,
   "id": "115bb668-0d18-44e8-9841-fc85448afb04",
   "metadata": {},
   "outputs": [],
   "source": [
    "from xmlrpc import client\n",
    "# room data with search_read method\n",
    "server_url = creds(host_name, 'server')\n",
    "db_name = creds(host_name, 'dbname')\n",
    "username = creds(host_name, 'user')\n",
    "# password = creds(host_name, 'user_pw')\n",
    "password = creds(host_name, 'user_apikey')\n"
   ]
  },
  {
   "cell_type": "markdown",
   "id": "2ccf842b-dbad-40f9-a9f1-dfb412d067c0",
   "metadata": {},
   "source": [
    "## Importação dos dados de \"res.country\""
   ]
  },
  {
   "cell_type": "code",
   "execution_count": 4,
   "id": "956e7f4d-249d-46de-9fad-c37d23ee6977",
   "metadata": {},
   "outputs": [
    {
     "name": "stdout",
     "output_type": "stream",
     "text": [
      "      id            name code\n",
      "0      3     Afghanistan   AF\n",
      "1      6         Albania   AL\n",
      "2     62         Algeria   DZ\n",
      "3     11  American Samoa   AS\n",
      "4      1         Andorra   AD\n",
      "..   ...             ...  ...\n",
      "245   66  Western Sahara   EH\n",
      "246  245           Yemen   YE\n",
      "247  248          Zambia   ZM\n",
      "248  249        Zimbabwe   ZW\n",
      "249   15   Åland Islands   AX\n",
      "\n",
      "[250 rows x 3 columns]\n"
     ]
    }
   ],
   "source": [
    "res_country_fields = ['id', 'name', 'code']\n",
    "\n",
    "common = client.ServerProxy('%s/xmlrpc/2/common' % server_url)\n",
    "user_id = common.authenticate(db_name, username, password, {})\n",
    "models = client.ServerProxy('%s/xmlrpc/2/object' % server_url)\n",
    "\n",
    "if user_id:\n",
    "\n",
    "    search_domain = []\n",
    "    res_country_objects = models.execute_kw(db_name, user_id, password,\n",
    "                                            'res.country', 'search_read',\n",
    "                                            [search_domain, res_country_fields],\n",
    "                                            {}\n",
    "                                           )\n",
    "    res_country = pd.DataFrame(res_country_objects)\n",
    "\n",
    "    print(res_country)\n",
    "\n",
    "    conn = sqlite3.connect('data/jcafb_2025.db')\n",
    "\n",
    "    cur = conn.cursor()\n",
    "    cur.execute('DELETE FROM res_country')\n",
    "    conn.commit()\n",
    "\n",
    "    # res_country.to_sql('res_country', conn, if_exists='replace', index=False)\n",
    "    res_country.to_sql('res_country', conn, if_exists='append', index=False)\n",
    "\n",
    "    conn.close()\n"
   ]
  },
  {
   "cell_type": "markdown",
   "id": "929ce158-f8a3-44dd-999c-aefff8489ea1",
   "metadata": {},
   "source": [
    "## Importação dos dados de \"res.partner\""
   ]
  },
  {
   "cell_type": "code",
   "execution_count": 5,
   "id": "3c09cb26-3cef-452c-87e5-dc4048d82a21",
   "metadata": {},
   "outputs": [
    {
     "name": "stdout",
     "output_type": "stream",
     "text": [
      "        id                        name             type\n",
      "0     3931          Abel Lucas Bertoni  clv.patient_rec\n",
      "1     3481          Abel Lucas Bertoni      clv.patient\n",
      "2     3932          Adalberto de Sousa  clv.patient_rec\n",
      "3     3496          Adalberto de Sousa      clv.patient\n",
      "4     3933  Adelaide Francisco Machado  clv.patient_rec\n",
      "...    ...                         ...              ...\n",
      "1942  3464      Zetir Maria Souza Tosi      clv.patient\n",
      "1943  4772        Zilda Pereira Cruaia  clv.patient_rec\n",
      "1944  3632        Zilda Pereira Cruaia      clv.patient\n",
      "1945  4773       Zilda Teixeira Cintra  clv.patient_rec\n",
      "1946  3924       Zilda Teixeira Cintra      clv.patient\n",
      "\n",
      "[1947 rows x 3 columns]\n"
     ]
    }
   ],
   "source": [
    "res_partner_fields = ['id', 'name', 'type']\n",
    "\n",
    "common = client.ServerProxy('%s/xmlrpc/2/common' % server_url)\n",
    "user_id = common.authenticate(db_name, username, password, {})\n",
    "models = client.ServerProxy('%s/xmlrpc/2/object' % server_url)\n",
    "\n",
    "if user_id:\n",
    "\n",
    "    search_domain = []\n",
    "    res_partner_objects = models.execute_kw(db_name, user_id, password,\n",
    "                                            'res.partner', 'search_read',\n",
    "                                            [search_domain, res_partner_fields],\n",
    "                                            {}\n",
    "                                           )\n",
    "    res_partner = pd.DataFrame(res_partner_objects)\n",
    "\n",
    "    print(res_partner)\n",
    "\n",
    "    conn = sqlite3.connect('data/jcafb_2025.db')\n",
    "\n",
    "    cur = conn.cursor()\n",
    "    cur.execute('DELETE FROM res_partner')\n",
    "    conn.commit()\n",
    "\n",
    "    # res_partner.to_sql('res_partner', conn, if_exists='replace', index=False)\n",
    "    res_partner.to_sql('res_partner', conn, if_exists='append', index=False)\n",
    "\n",
    "    conn.close()\n"
   ]
  },
  {
   "cell_type": "markdown",
   "id": "0414e741-bcce-4c5b-a454-a7a9c9878494",
   "metadata": {},
   "source": [
    "## Importação dos dados de \"res.company\""
   ]
  },
  {
   "cell_type": "code",
   "execution_count": 6,
   "id": "06ebbc24-1be3-435d-9179-6f760fa1823f",
   "metadata": {},
   "outputs": [
    {
     "name": "stdout",
     "output_type": "stream",
     "text": [
      "   id             name\n",
      "0   1  CLVhealth-JCAFB\n"
     ]
    }
   ],
   "source": [
    "res_company_fields = ['id', 'name']\n",
    "\n",
    "common = client.ServerProxy('%s/xmlrpc/2/common' % server_url)\n",
    "user_id = common.authenticate(db_name, username, password, {})\n",
    "models = client.ServerProxy('%s/xmlrpc/2/object' % server_url)\n",
    "\n",
    "if user_id:\n",
    "\n",
    "    search_domain = []\n",
    "    res_company_objects = models.execute_kw(db_name, user_id, password,\n",
    "                                            'res.company', 'search_read',\n",
    "                                            [search_domain, res_company_fields],\n",
    "                                            {}\n",
    "                                           )\n",
    "    res_company = pd.DataFrame(res_company_objects)\n",
    "\n",
    "    print(res_company)\n",
    "\n",
    "    conn = sqlite3.connect('data/jcafb_2025.db')\n",
    "\n",
    "    cur = conn.cursor()\n",
    "    cur.execute('DELETE FROM res_company')\n",
    "    conn.commit()\n",
    "\n",
    "    # res_company.to_sql('res_company', conn, if_exists='replace', index=False)\n",
    "    res_company.to_sql('res_company', conn, if_exists='append', index=False)\n",
    "\n",
    "    conn.close()\n"
   ]
  },
  {
   "cell_type": "markdown",
   "id": "829b93c8-028f-4043-b6ac-f8731cf68d17",
   "metadata": {},
   "source": [
    "## Importação dos dados de \"res.users\""
   ]
  },
  {
   "cell_type": "code",
   "execution_count": 7,
   "id": "b43ebfe2-f885-4542-822b-e90a7d438289",
   "metadata": {},
   "outputs": [
    {
     "name": "stdout",
     "output_type": "stream",
     "text": [
      "      id                              name partner_id company_id parent_id  \\\n",
      "0      2                     Administrator          3          1      None   \n",
      "1      8           Alex Monteiro Magalhães         10          1         1   \n",
      "2      9               Alexandre Bakanovas         11          1         1   \n",
      "3     10         Alice Herminia Serpentino         12          1         1   \n",
      "4     11                Alice Mota Almeida         13          1         1   \n",
      "..   ...                               ...        ...        ...       ...   \n",
      "254  225    Vitória Alves da Silva Varollo        227          1         1   \n",
      "255  226         Vitória Monteiro Bernardo        228          1         1   \n",
      "256  227       Wallace Androm Gomez Junior        229          1         1   \n",
      "257  228  Yasmin Catharine da Paz Mendonça        230          1         1   \n",
      "258  229     Zaira Maria De Sousa Pinheiro        231          1         1   \n",
      "\n",
      "                    tz   lang country_id                        login  \\\n",
      "0    America/Sao_Paulo  pt_BR       None                        admin   \n",
      "1    America/Sao_Paulo  pt_BR       None     alex.magalhaes@gmail.com   \n",
      "2    America/Sao_Paulo  pt_BR       None   alexandre.bakanovas@usp.br   \n",
      "3    America/Sao_Paulo  pt_BR       None      aliceherminia@gmail.com   \n",
      "4    America/Sao_Paulo  pt_BR       None       alice.m.almeida@usp.br   \n",
      "..                 ...    ...        ...                          ...   \n",
      "254  America/Sao_Paulo  pt_BR       None        vitoriavarollo@usp.br   \n",
      "255  America/Sao_Paulo  pt_BR       None  vitoria.monteirob@gmail.com   \n",
      "256  America/Sao_Paulo  pt_BR       None         wallaceandrom@usp.br   \n",
      "257  America/Sao_Paulo  pt_BR       None             yasminpaz@usp.br   \n",
      "258  America/Sao_Paulo  pt_BR       None    zairapinheiro12@gmail.com   \n",
      "\n",
      "    password  active                                         image_1920  \n",
      "0               True  iVBORw0KGgoAAAANSUhEUgAAAIEAAACBCAYAAADnoNlQAA...  \n",
      "1               True  iVBORw0KGgoAAAANSUhEUgAAALQAAAC0CAIAAACyr5FlAA...  \n",
      "2               True  iVBORw0KGgoAAAANSUhEUgAAALQAAAC0CAIAAACyr5FlAA...  \n",
      "3               True  /9j/4AAQSkZJRgABAQEAYABgAAD/2wBDAAMCAgMCAgMDAw...  \n",
      "4               True  iVBORw0KGgoAAAANSUhEUgAAALQAAAC0CAIAAACyr5FlAA...  \n",
      "..       ...     ...                                                ...  \n",
      "254             True  iVBORw0KGgoAAAANSUhEUgAAALQAAAC0CAIAAACyr5FlAA...  \n",
      "255             True  iVBORw0KGgoAAAANSUhEUgAAALQAAAC0CAIAAACyr5FlAA...  \n",
      "256             True  iVBORw0KGgoAAAANSUhEUgAAALQAAAC0CAIAAACyr5FlAA...  \n",
      "257             True  iVBORw0KGgoAAAANSUhEUgAAALQAAAC0CAIAAACyr5FlAA...  \n",
      "258             True  iVBORw0KGgoAAAANSUhEUgAAALQAAAC0CAIAAACyr5FlAA...  \n",
      "\n",
      "[259 rows x 12 columns]\n"
     ]
    }
   ],
   "source": [
    "# res_users_fields = ['id', 'name', 'partner_id', 'company_id', 'parent_id', 'tz', 'lang', 'country_id',\n",
    "#                     'login', 'password', 'groups_id', 'active', 'image_1920']\n",
    "res_users_fields = ['id', 'name', 'partner_id', 'company_id', 'parent_id', 'tz', 'lang', 'country_id',\n",
    "                    'login', 'password', 'active', 'image_1920']\n",
    "\n",
    "common = client.ServerProxy('%s/xmlrpc/2/common' % server_url)\n",
    "user_id = common.authenticate(db_name, username, password, {})\n",
    "models = client.ServerProxy('%s/xmlrpc/2/object' % server_url)\n",
    "\n",
    "if user_id:\n",
    "\n",
    "    search_domain = []\n",
    "    res_users_objects = models.execute_kw(db_name, user_id, password,\n",
    "                                          'res.users', 'search_read',\n",
    "                                          [search_domain, res_users_fields],\n",
    "                                          {}\n",
    "                                         )\n",
    "    res_users = pd.DataFrame(res_users_objects)\n",
    "\n",
    "    for i, row in res_users.iterrows():\n",
    "\n",
    "        if row['partner_id']:\n",
    "            res_users['partner_id'].values[i] = row['partner_id'][0]\n",
    "        else:\n",
    "            res_users['partner_id'].values[i] = None\n",
    "\n",
    "        if row['company_id']:\n",
    "            res_users['company_id'].values[i] = row['company_id'][0]\n",
    "        else:\n",
    "            res_users['company_id'].values[i] = None\n",
    "\n",
    "        if row['parent_id']:\n",
    "            res_users['parent_id'].values[i] = row['parent_id'][0]\n",
    "        else:\n",
    "            res_users['parent_id'].values[i] = None\n",
    "\n",
    "        if row['country_id']:\n",
    "            res_users['country_id'].values[i] = row['country_id'][0]\n",
    "        else:\n",
    "            res_users['country_id'].values[i] = None\n",
    "\n",
    "    print(res_users)\n",
    "\n",
    "    conn = sqlite3.connect('data/jcafb_2025.db')\n",
    "\n",
    "    cur = conn.cursor()\n",
    "    cur.execute('DELETE FROM res_users')\n",
    "    conn.commit()\n",
    "\n",
    "    # res_users.to_sql('res_users', conn, if_exists='replace', index=False)\n",
    "    res_users.to_sql('res_users', conn, if_exists='append', index=False)\n",
    "\n",
    "    conn.close()\n"
   ]
  },
  {
   "cell_type": "markdown",
   "id": "0a80b8d0-296d-43cb-a71c-f91b7fa59164",
   "metadata": {},
   "source": [
    "## Importação dos dados de \"clv_phase\""
   ]
  },
  {
   "cell_type": "code",
   "execution_count": 8,
   "id": "670e4da4-d250-483f-9d34-6af89e055835",
   "metadata": {},
   "outputs": [
    {
     "name": "stdout",
     "output_type": "stream",
     "text": [
      "   id         name                                        description\n",
      "0   1   JCAFB-2017                                               None\n",
      "1   2   JCAFB-2018                                               None\n",
      "2   3   JCAFB-2019                                               None\n",
      "3   4   JCAFB-2020                                               None\n",
      "4   5  JCAFB-2021v  Jornada Virtual simulando uma quinta visita à ...\n",
      "5   6  JCAFB-2022v  Jornada Virtual simulando uma visita a uma Com...\n",
      "6   7   JCAFB-2023       Primeiro ano do ciclo de Itapirapuã Paulista\n",
      "7   8   JCAFB-2024        Segundo ano do ciclo de Itapirapuã Paulista\n",
      "8   9   JCAFB-2025                      Primeiro ano do ciclo de Avaí\n"
     ]
    }
   ],
   "source": [
    "clv_phase_fields = ['id', 'name', 'description']\n",
    "\n",
    "common = client.ServerProxy('%s/xmlrpc/2/common' % server_url)\n",
    "user_id = common.authenticate(db_name, username, password, {})\n",
    "models = client.ServerProxy('%s/xmlrpc/2/object' % server_url)\n",
    "\n",
    "if user_id:\n",
    "\n",
    "    search_domain = []\n",
    "    clv_phase_objects = models.execute_kw(db_name, user_id, password,\n",
    "                                          'clv.phase', 'search_read',\n",
    "                                          [search_domain, clv_phase_fields],\n",
    "                                          {}\n",
    "                                         )\n",
    "    clv_phase = pd.DataFrame(clv_phase_objects)\n",
    "\n",
    "    for i, row in clv_phase.iterrows():\n",
    "\n",
    "        if row['description'] is False:\n",
    "            clv_phase['description'].values[i] = None\n",
    "\n",
    "    print(clv_phase)\n",
    "\n",
    "    conn = sqlite3.connect('data/jcafb_2025.db')\n",
    "\n",
    "    cur = conn.cursor()\n",
    "    cur.execute('DELETE FROM clv_phase')\n",
    "    conn.commit()\n",
    "\n",
    "    # clv_phase.to_sql('clv_phase', conn, if_exists='replace', index=False)\n",
    "    clv_phase.to_sql('clv_phase', conn, if_exists='append', index=False)\n",
    "\n",
    "    conn.close()\n"
   ]
  },
  {
   "cell_type": "markdown",
   "id": "cba27707-3881-420f-8771-2e1bf55b2834",
   "metadata": {},
   "source": [
    "## Importação dos dados de \"clv_patient\""
   ]
  },
  {
   "cell_type": "code",
   "execution_count": 10,
   "id": "38fa346d-7b84-4d85-a730-32aa13f0dc06",
   "metadata": {},
   "outputs": [
    {
     "name": "stdout",
     "output_type": "stream",
     "text": [
      "       id                            name            code gender    birthday  \\\n",
      "0    1224              Abel Lucas Bertoni  709.052.078-15      M  1955-06-01   \n",
      "1    1239              Adalberto de Sousa  826.257.608-00      M  1955-12-12   \n",
      "2    1467      Adelaide Francisco Machado  280.197.278-92      M  1948-03-13   \n",
      "3    1414        Adelia Aparecida Fontana  058.521.998-26      F  1964-08-29   \n",
      "4    1247          Ademar Antonio Dagoano  042.270.498-90      M  1947-05-14   \n",
      "..    ...                             ...             ...    ...         ...   \n",
      "838   918      Zeni Maria de Souza Pivato  096.142.708-61      F  1946-12-14   \n",
      "839  1077  Zenilce de Souza Lima da Silva  347.004.648-44      F  1947-08-20   \n",
      "840  1207          Zetir Maria Souza Tosi  825.869.938-53      F  1949-11-18   \n",
      "841  1375            Zilda Pereira Cruaia  257.321.268-80      F  1957-10-04   \n",
      "842  1667           Zilda Teixeira Cintra  049.801.878-46      F  1956-07-30   \n",
      "\n",
      "    phase_id                                         street street_number  \\\n",
      "0          9           Rua Coronel Juvencio Silva, 152/Casa           152   \n",
      "1          9        Rua Antonio Bernardo da Cunha, 289/Casa           289   \n",
      "2          9        Rua Antonio Manoel da Silva, 090/Fundos           090   \n",
      "3          9  Travessa Leonilda Coelho de Azevedo, 165/Casa           165   \n",
      "4          9        Rua Antonio Bernardo da Cunha, 185/Casa           185   \n",
      "..       ...                                            ...           ...   \n",
      "838        9             Rua Amaro Militao de Lima, 14/Casa            14   \n",
      "839        9     Avenida Manoel Rodrigues, 127/Casa Fundo A           127   \n",
      "840        9                  Rua Domingos Zulian, 231/Casa           231   \n",
      "841        9                   Rua Barao do Rio Branco, 872           872   \n",
      "842        9                  Rua Domingos Zulian, 885/Casa           885   \n",
      "\n",
      "               street2        zip city_id country_id  mobile  email marker_ids  \n",
      "0               Centro  16680-000    2575         31   False  False       [13]  \n",
      "1              Baixada  16680-000    2575         31   False  False       [13]  \n",
      "2        Vila Oliveira  16680-000    2575         31   False  False       [19]  \n",
      "3              Baixada  16680-000    2575         31   False  False       [17]  \n",
      "4              Baixada  16680-000    2575         31   False  False       [13]  \n",
      "..                 ...        ...     ...        ...     ...    ...        ...  \n",
      "838  NH Eunice Andrade  16680-000    2575         31   False  False        [9]  \n",
      "839  NH Eunice Andrade  16680-000    2575         31   False  False       [11]  \n",
      "840             Centro  16680-000    2575         31   False  False       [13]  \n",
      "841            Baixada  16680-000    2575         31   False  False       [17]  \n",
      "842      Vila Oliveira  16680-000    2575         31   False  False       [21]  \n",
      "\n",
      "[843 rows x 15 columns]\n"
     ]
    }
   ],
   "source": [
    "clv_patient_fields = ['id', 'name', 'code', 'gender', 'birthday', 'phase_id',\n",
    "                      'address_name', 'street', 'street_name', 'street_number', 'street2', 'street_number2',\n",
    "                      'zip', 'city_id', 'country_id', 'mobile', 'email', 'marker_ids'\n",
    "                     ]\n",
    "\n",
    "common = client.ServerProxy('%s/xmlrpc/2/common' % server_url)\n",
    "user_id = common.authenticate(db_name, username, password, {})\n",
    "models = client.ServerProxy('%s/xmlrpc/2/object' % server_url)\n",
    "\n",
    "if user_id:\n",
    "\n",
    "    search_domain = []\n",
    "    clv_patient_objects = models.execute_kw(db_name, user_id, password,\n",
    "                                            'clv.patient', 'search_read',\n",
    "                                            [search_domain, clv_patient_fields],\n",
    "                                            {}\n",
    "                                           )\n",
    "    clv_patient = pd.DataFrame(clv_patient_objects)\n",
    "\n",
    "    for i, row in clv_patient.iterrows():\n",
    "\n",
    "        if row['city_id']:\n",
    "            clv_patient['phase_id'].values[i] = row['phase_id'][0]\n",
    "        else:\n",
    "            clv_patient['phase_id'].values[i] = None\n",
    "\n",
    "        if row['city_id']:\n",
    "            clv_patient['city_id'].values[i] = row['city_id'][0]\n",
    "        else:\n",
    "            clv_patient['city_id'].values[i] = None\n",
    "\n",
    "        if row['country_id']:\n",
    "            clv_patient['country_id'].values[i] = row['country_id'][0]\n",
    "        else:\n",
    "            clv_patient['country_id'].values[i] = None\n",
    "\n",
    "        if row['marker_ids']:\n",
    "            clv_patient['marker_ids'].values[i] = str(row['marker_ids'])\n",
    "        else:\n",
    "            clv_patient['marker_ids'].values[i] = None\n",
    "\n",
    "    print(clv_patient)\n",
    "\n",
    "    conn = sqlite3.connect('data/jcafb_2025.db')\n",
    "\n",
    "    cur = conn.cursor()\n",
    "    cur.execute('DELETE FROM clv_patient')\n",
    "    conn.commit()\n",
    "\n",
    "    # clv_patiBaseExceptionent.to_sql('clv_patient', conn, if_exists='replace', index=False)\n",
    "    clv_patient.to_sql('clv_patient', conn, if_exists='append', index=False)\n",
    "\n",
    "    conn.close()\n"
   ]
  },
  {
   "cell_type": "code",
   "execution_count": null,
   "id": "6306fc03-00e2-4749-aa12-e7741ea80bc7",
   "metadata": {},
   "outputs": [],
   "source": []
  }
 ],
 "metadata": {
  "kernelspec": {
   "display_name": "Python 3 (ipykernel)",
   "language": "python",
   "name": "python3"
  },
  "language_info": {
   "codemirror_mode": {
    "name": "ipython",
    "version": 3
   },
   "file_extension": ".py",
   "mimetype": "text/x-python",
   "name": "python",
   "nbconvert_exporter": "python",
   "pygments_lexer": "ipython3",
   "version": "3.12.2"
  }
 },
 "nbformat": 4,
 "nbformat_minor": 5
}
