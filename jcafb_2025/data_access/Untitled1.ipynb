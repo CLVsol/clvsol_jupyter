{
 "cells": [
  {
   "cell_type": "markdown",
   "id": "735ba30d-4642-44fb-a401-90ffc5fc2da2",
   "metadata": {},
   "source": [
    "# Importação dos dados do Banco de Dados \"clvhealth_jcafb_2025_15\""
   ]
  },
  {
   "cell_type": "markdown",
   "id": "83497e10-fbc5-4ea3-8a7c-2bd5b5bb3ece",
   "metadata": {},
   "source": [
    "## Leitura das Credenciais"
   ]
  },
  {
   "cell_type": "code",
   "execution_count": 1,
   "id": "0ac81c9e-6835-4c13-85ef-d4e78d492a33",
   "metadata": {},
   "outputs": [],
   "source": [
    "import sqlite3\n",
    "import pandas as pd\n",
    "\n",
    "conn = sqlite3.connect('data/jcafb_2025.db')\n",
    "\n",
    "hosts = pd.read_sql_query('SELECT * FROM host', conn, index_col='name')\n",
    "\n",
    "conn.close()\n",
    "\n",
    "creds = lambda index, col_name : hosts.at[index, col_name]\n"
   ]
  },
  {
   "cell_type": "markdown",
   "id": "7371f902-19b1-42cd-acd4-eb49ba62f0bb",
   "metadata": {},
   "source": [
    "## Parâmetros globais"
   ]
  },
  {
   "cell_type": "code",
   "execution_count": 2,
   "id": "6beceb0a-b77c-4f3b-a6f1-13eb41c6b9fb",
   "metadata": {},
   "outputs": [],
   "source": [
    "import logging\n",
    "import host\n",
    "import ssl\n",
    "\n",
    "logging.basicConfig(level=logging.DEBUG)\n",
    "_logger = logging.getLogger(__name__)\n",
    "\n",
    "host_name = 'tkl-odoo15-jcafb25-vm'\n",
    "# host_name = 'tkl-odoo16-vm-18'\n",
    "\n",
    "ssl._create_default_https_context = ssl._create_unverified_context\n",
    "ctx = ssl.create_default_context()\n",
    "ctx.check_hostname = False\n",
    "ctx.verify_mode = ssl.CERT_NONE\n"
   ]
  },
  {
   "cell_type": "markdown",
   "id": "6a6c26d0-f52e-4228-be97-2144678bcf19",
   "metadata": {},
   "source": [
    "## Funçôes de Suporte"
   ]
  },
  {
   "cell_type": "code",
   "execution_count": 3,
   "id": "16fc4e63-773a-494e-867f-7fbe30238cf6",
   "metadata": {},
   "outputs": [],
   "source": [
    "def get_data(sock, uid, admin_user_pw, dbname,\n",
    "             model_name, model_fields):\n",
    "\n",
    "    count = 0\n",
    "    execute = True\n",
    "    while execute:\n",
    "        try:\n",
    "            model_objects = sock.execute(dbname, uid, admin_user_pw,\n",
    "                                         model_name, 'search_read',\n",
    "                                         [],\n",
    "                                         model_fields)\n",
    "            execute = False\n",
    "        except Exception as err:\n",
    "            count = count + 1\n",
    "            if count > 4:\n",
    "                raise err\n",
    "            else:\n",
    "               _logger.info(u'%s %s\\n', '--> Exception:', err)\n",
    "\n",
    "    _logger.info(u'%s %s\\n', '--> model_objects', len(model_objects))\n",
    "\n",
    "    return model_objects\n"
   ]
  },
  {
   "cell_type": "markdown",
   "id": "0bd6d43c-6e3d-4c40-9240-c3c24c0f0335",
   "metadata": {},
   "source": [
    "## Importação dos dados de \"res.country\""
   ]
  },
  {
   "cell_type": "code",
   "execution_count": 11,
   "id": "5e36fb8a-76af-472b-85c2-fd37905fa3a1",
   "metadata": {},
   "outputs": [
    {
     "name": "stderr",
     "output_type": "stream",
     "text": [
      "INFO:host:--> host_login https://192.168.25.210 clvhealth_jcafb_2025_15\n",
      "INFO:host:--> except cannot marshal None unless allow_none is enabled\n",
      "INFO:host:--> [22] Database does not exist.  \n",
      "INFO:__main__:--> Exception: 'bool' object has no attribute 'execute'\n",
      "\n",
      "INFO:__main__:--> Exception: 'bool' object has no attribute 'execute'\n",
      "\n",
      "INFO:__main__:--> Exception: 'bool' object has no attribute 'execute'\n",
      "\n",
      "INFO:__main__:--> Exception: 'bool' object has no attribute 'execute'\n",
      "\n"
     ]
    },
    {
     "name": "stdout",
     "output_type": "stream",
     "text": [
      "(False, False, '[22] Database does not exist.')\n"
     ]
    },
    {
     "ename": "AttributeError",
     "evalue": "'bool' object has no attribute 'execute'",
     "output_type": "error",
     "traceback": [
      "\u001b[0;31m---------------------------------------------------------------------------\u001b[0m",
      "\u001b[0;31mAttributeError\u001b[0m                            Traceback (most recent call last)",
      "Cell \u001b[0;32mIn[11], line 9\u001b[0m\n\u001b[1;32m      5\u001b[0m \u001b[38;5;28mprint\u001b[39m(host_login)\n\u001b[1;32m      7\u001b[0m res_country_fields \u001b[38;5;241m=\u001b[39m [\u001b[38;5;124m'\u001b[39m\u001b[38;5;124mid\u001b[39m\u001b[38;5;124m'\u001b[39m, \u001b[38;5;124m'\u001b[39m\u001b[38;5;124mname\u001b[39m\u001b[38;5;124m'\u001b[39m, \u001b[38;5;124m'\u001b[39m\u001b[38;5;124mcode\u001b[39m\u001b[38;5;124m'\u001b[39m]\n\u001b[0;32m----> 9\u001b[0m res_country_objects \u001b[38;5;241m=\u001b[39m get_data(host_login[\u001b[38;5;241m1\u001b[39m], host_login[\u001b[38;5;241m0\u001b[39m], creds(host_name, \u001b[38;5;124m'\u001b[39m\u001b[38;5;124muser_pw\u001b[39m\u001b[38;5;124m'\u001b[39m), creds(host_name, \u001b[38;5;124m'\u001b[39m\u001b[38;5;124mdbname\u001b[39m\u001b[38;5;124m'\u001b[39m),\n\u001b[1;32m     10\u001b[0m                                \u001b[38;5;124m'\u001b[39m\u001b[38;5;124mres.country\u001b[39m\u001b[38;5;124m'\u001b[39m, res_country_fields)\n\u001b[1;32m     12\u001b[0m res_country \u001b[38;5;241m=\u001b[39m pd\u001b[38;5;241m.\u001b[39mDataFrame(res_country_objects)\n\u001b[1;32m     14\u001b[0m res_country\n",
      "Cell \u001b[0;32mIn[3], line 16\u001b[0m, in \u001b[0;36mget_data\u001b[0;34m(sock, uid, admin_user_pw, dbname, model_name, model_fields)\u001b[0m\n\u001b[1;32m     14\u001b[0m count \u001b[38;5;241m=\u001b[39m count \u001b[38;5;241m+\u001b[39m \u001b[38;5;241m1\u001b[39m\n\u001b[1;32m     15\u001b[0m \u001b[38;5;28;01mif\u001b[39;00m count \u001b[38;5;241m>\u001b[39m \u001b[38;5;241m4\u001b[39m:\n\u001b[0;32m---> 16\u001b[0m     \u001b[38;5;28;01mraise\u001b[39;00m err\n\u001b[1;32m     17\u001b[0m \u001b[38;5;28;01melse\u001b[39;00m:\n\u001b[1;32m     18\u001b[0m    _logger\u001b[38;5;241m.\u001b[39minfo(\u001b[38;5;124mu\u001b[39m\u001b[38;5;124m'\u001b[39m\u001b[38;5;132;01m%s\u001b[39;00m\u001b[38;5;124m \u001b[39m\u001b[38;5;132;01m%s\u001b[39;00m\u001b[38;5;130;01m\\n\u001b[39;00m\u001b[38;5;124m'\u001b[39m, \u001b[38;5;124m'\u001b[39m\u001b[38;5;124m--> Exception:\u001b[39m\u001b[38;5;124m'\u001b[39m, err)\n",
      "Cell \u001b[0;32mIn[3], line 8\u001b[0m, in \u001b[0;36mget_data\u001b[0;34m(sock, uid, admin_user_pw, dbname, model_name, model_fields)\u001b[0m\n\u001b[1;32m      6\u001b[0m \u001b[38;5;28;01mwhile\u001b[39;00m execute:\n\u001b[1;32m      7\u001b[0m     \u001b[38;5;28;01mtry\u001b[39;00m:\n\u001b[0;32m----> 8\u001b[0m         model_objects \u001b[38;5;241m=\u001b[39m sock\u001b[38;5;241m.\u001b[39mexecute(dbname, uid, admin_user_pw,\n\u001b[1;32m      9\u001b[0m                                      model_name, \u001b[38;5;124m'\u001b[39m\u001b[38;5;124msearch_read\u001b[39m\u001b[38;5;124m'\u001b[39m,\n\u001b[1;32m     10\u001b[0m                                      [],\n\u001b[1;32m     11\u001b[0m                                      model_fields)\n\u001b[1;32m     12\u001b[0m         execute \u001b[38;5;241m=\u001b[39m \u001b[38;5;28;01mFalse\u001b[39;00m\n\u001b[1;32m     13\u001b[0m     \u001b[38;5;28;01mexcept\u001b[39;00m \u001b[38;5;167;01mException\u001b[39;00m \u001b[38;5;28;01mas\u001b[39;00m err:\n",
      "\u001b[0;31mAttributeError\u001b[0m: 'bool' object has no attribute 'execute'"
     ]
    }
   ],
   "source": [
    "host_login = host.host_login(creds(host_name, 'server'),\n",
    "                             creds(host_name, 'dbname'),\n",
    "                             creds(host_name, 'user'),\n",
    "                             creds(host_name, 'user_pw'))\n",
    "print(host_login)\n",
    "\n",
    "res_country_fields = ['id', 'name', 'code']\n",
    "\n",
    "res_country_objects = get_data(host_login[1], host_login[0], creds(host_name, 'user_pw'), creds(host_name, 'dbname'),\n",
    "                               'res.country', res_country_fields)\n",
    "\n",
    "res_country = pd.DataFrame(res_country_objects)\n",
    "\n",
    "res_country"
   ]
  },
  {
   "cell_type": "markdown",
   "id": "2d62965c-2f3f-46c0-a46a-95f8a66eaa20",
   "metadata": {},
   "source": [
    "## Importação dos dados de \"res.partner\""
   ]
  },
  {
   "cell_type": "code",
   "execution_count": 12,
   "id": "56e26db4-ffbe-4c31-8a8d-c1161c0fe52a",
   "metadata": {},
   "outputs": [
    {
     "name": "stderr",
     "output_type": "stream",
     "text": [
      "INFO:host:--> host_login https://192.168.25.210 clvhealth_jcafb_2025_15\n",
      "INFO:host:--> except cannot marshal None unless allow_none is enabled\n",
      "INFO:host:--> [22] Database does not exist.  \n",
      "INFO:__main__:--> Exception: 'bool' object has no attribute 'execute'\n",
      "\n",
      "INFO:__main__:--> Exception: 'bool' object has no attribute 'execute'\n",
      "\n",
      "INFO:__main__:--> Exception: 'bool' object has no attribute 'execute'\n",
      "\n",
      "INFO:__main__:--> Exception: 'bool' object has no attribute 'execute'\n",
      "\n"
     ]
    },
    {
     "name": "stdout",
     "output_type": "stream",
     "text": [
      "(False, False, '[22] Database does not exist.')\n"
     ]
    },
    {
     "ename": "AttributeError",
     "evalue": "'bool' object has no attribute 'execute'",
     "output_type": "error",
     "traceback": [
      "\u001b[0;31m---------------------------------------------------------------------------\u001b[0m",
      "\u001b[0;31mAttributeError\u001b[0m                            Traceback (most recent call last)",
      "Cell \u001b[0;32mIn[12], line 9\u001b[0m\n\u001b[1;32m      5\u001b[0m \u001b[38;5;28mprint\u001b[39m(host_login)\n\u001b[1;32m      7\u001b[0m res_partner_fields \u001b[38;5;241m=\u001b[39m [\u001b[38;5;124m'\u001b[39m\u001b[38;5;124mid\u001b[39m\u001b[38;5;124m'\u001b[39m, \u001b[38;5;124m'\u001b[39m\u001b[38;5;124mname\u001b[39m\u001b[38;5;124m'\u001b[39m, \u001b[38;5;124m'\u001b[39m\u001b[38;5;124mtype\u001b[39m\u001b[38;5;124m'\u001b[39m]\n\u001b[0;32m----> 9\u001b[0m res_partner_objects \u001b[38;5;241m=\u001b[39m get_data(host_login[\u001b[38;5;241m1\u001b[39m], host_login[\u001b[38;5;241m0\u001b[39m], creds(host_name, \u001b[38;5;124m'\u001b[39m\u001b[38;5;124muser_pw\u001b[39m\u001b[38;5;124m'\u001b[39m), creds(host_name, \u001b[38;5;124m'\u001b[39m\u001b[38;5;124mdbname\u001b[39m\u001b[38;5;124m'\u001b[39m),\n\u001b[1;32m     10\u001b[0m                                \u001b[38;5;124m'\u001b[39m\u001b[38;5;124mres.partner\u001b[39m\u001b[38;5;124m'\u001b[39m, res_partner_fields)\n\u001b[1;32m     12\u001b[0m res_partner \u001b[38;5;241m=\u001b[39m pd\u001b[38;5;241m.\u001b[39mDataFrame(res_partner_objects)\n\u001b[1;32m     14\u001b[0m res_partner\n",
      "Cell \u001b[0;32mIn[3], line 16\u001b[0m, in \u001b[0;36mget_data\u001b[0;34m(sock, uid, admin_user_pw, dbname, model_name, model_fields)\u001b[0m\n\u001b[1;32m     14\u001b[0m count \u001b[38;5;241m=\u001b[39m count \u001b[38;5;241m+\u001b[39m \u001b[38;5;241m1\u001b[39m\n\u001b[1;32m     15\u001b[0m \u001b[38;5;28;01mif\u001b[39;00m count \u001b[38;5;241m>\u001b[39m \u001b[38;5;241m4\u001b[39m:\n\u001b[0;32m---> 16\u001b[0m     \u001b[38;5;28;01mraise\u001b[39;00m err\n\u001b[1;32m     17\u001b[0m \u001b[38;5;28;01melse\u001b[39;00m:\n\u001b[1;32m     18\u001b[0m    _logger\u001b[38;5;241m.\u001b[39minfo(\u001b[38;5;124mu\u001b[39m\u001b[38;5;124m'\u001b[39m\u001b[38;5;132;01m%s\u001b[39;00m\u001b[38;5;124m \u001b[39m\u001b[38;5;132;01m%s\u001b[39;00m\u001b[38;5;130;01m\\n\u001b[39;00m\u001b[38;5;124m'\u001b[39m, \u001b[38;5;124m'\u001b[39m\u001b[38;5;124m--> Exception:\u001b[39m\u001b[38;5;124m'\u001b[39m, err)\n",
      "Cell \u001b[0;32mIn[3], line 8\u001b[0m, in \u001b[0;36mget_data\u001b[0;34m(sock, uid, admin_user_pw, dbname, model_name, model_fields)\u001b[0m\n\u001b[1;32m      6\u001b[0m \u001b[38;5;28;01mwhile\u001b[39;00m execute:\n\u001b[1;32m      7\u001b[0m     \u001b[38;5;28;01mtry\u001b[39;00m:\n\u001b[0;32m----> 8\u001b[0m         model_objects \u001b[38;5;241m=\u001b[39m sock\u001b[38;5;241m.\u001b[39mexecute(dbname, uid, admin_user_pw,\n\u001b[1;32m      9\u001b[0m                                      model_name, \u001b[38;5;124m'\u001b[39m\u001b[38;5;124msearch_read\u001b[39m\u001b[38;5;124m'\u001b[39m,\n\u001b[1;32m     10\u001b[0m                                      [],\n\u001b[1;32m     11\u001b[0m                                      model_fields)\n\u001b[1;32m     12\u001b[0m         execute \u001b[38;5;241m=\u001b[39m \u001b[38;5;28;01mFalse\u001b[39;00m\n\u001b[1;32m     13\u001b[0m     \u001b[38;5;28;01mexcept\u001b[39;00m \u001b[38;5;167;01mException\u001b[39;00m \u001b[38;5;28;01mas\u001b[39;00m err:\n",
      "\u001b[0;31mAttributeError\u001b[0m: 'bool' object has no attribute 'execute'"
     ]
    }
   ],
   "source": [
    "host_login = host.host_login(creds(host_name, 'server'),\n",
    "                             creds(host_name, 'dbname'),\n",
    "                             creds(host_name, 'user'),\n",
    "                             creds(host_name, 'user_pw'))\n",
    "print(host_login)\n",
    "\n",
    "res_partner_fields = ['id', 'name', 'type']\n",
    "\n",
    "res_partner_objects = get_data(host_login[1], host_login[0], creds(host_name, 'user_pw'), creds(host_name, 'dbname'),\n",
    "                               'res.partner', res_partner_fields)\n",
    "\n",
    "res_partner = pd.DataFrame(res_partner_objects)\n",
    "\n",
    "res_partner"
   ]
  },
  {
   "cell_type": "markdown",
   "id": "8bc0752c-ec9f-47d7-8190-00c90bab47b5",
   "metadata": {},
   "source": [
    "## Importação dos dados de \"res.company\""
   ]
  },
  {
   "cell_type": "code",
   "execution_count": 13,
   "id": "e209fffd-3bf9-4ad9-a491-d90a2060382e",
   "metadata": {},
   "outputs": [
    {
     "name": "stderr",
     "output_type": "stream",
     "text": [
      "INFO:host:--> host_login https://192.168.25.210 clvhealth_jcafb_2025_15\n",
      "INFO:host:--> except cannot marshal None unless allow_none is enabled\n",
      "INFO:host:--> [22] Database does not exist.  \n",
      "INFO:__main__:--> Exception: 'bool' object has no attribute 'execute'\n",
      "\n",
      "INFO:__main__:--> Exception: 'bool' object has no attribute 'execute'\n",
      "\n",
      "INFO:__main__:--> Exception: 'bool' object has no attribute 'execute'\n",
      "\n",
      "INFO:__main__:--> Exception: 'bool' object has no attribute 'execute'\n",
      "\n"
     ]
    },
    {
     "name": "stdout",
     "output_type": "stream",
     "text": [
      "(False, False, '[22] Database does not exist.')\n"
     ]
    },
    {
     "ename": "AttributeError",
     "evalue": "'bool' object has no attribute 'execute'",
     "output_type": "error",
     "traceback": [
      "\u001b[0;31m---------------------------------------------------------------------------\u001b[0m",
      "\u001b[0;31mAttributeError\u001b[0m                            Traceback (most recent call last)",
      "Cell \u001b[0;32mIn[13], line 9\u001b[0m\n\u001b[1;32m      5\u001b[0m \u001b[38;5;28mprint\u001b[39m(host_login)\n\u001b[1;32m      7\u001b[0m res_company_fields \u001b[38;5;241m=\u001b[39m [\u001b[38;5;124m'\u001b[39m\u001b[38;5;124mid\u001b[39m\u001b[38;5;124m'\u001b[39m, \u001b[38;5;124m'\u001b[39m\u001b[38;5;124mname\u001b[39m\u001b[38;5;124m'\u001b[39m]\n\u001b[0;32m----> 9\u001b[0m res_company_objects \u001b[38;5;241m=\u001b[39m get_data(host_login[\u001b[38;5;241m1\u001b[39m], host_login[\u001b[38;5;241m0\u001b[39m], creds(host_name, \u001b[38;5;124m'\u001b[39m\u001b[38;5;124muser_pw\u001b[39m\u001b[38;5;124m'\u001b[39m), creds(host_name, \u001b[38;5;124m'\u001b[39m\u001b[38;5;124mdbname\u001b[39m\u001b[38;5;124m'\u001b[39m),\n\u001b[1;32m     10\u001b[0m                                \u001b[38;5;124m'\u001b[39m\u001b[38;5;124mres.company\u001b[39m\u001b[38;5;124m'\u001b[39m, res_company_fields)\n\u001b[1;32m     12\u001b[0m res_company \u001b[38;5;241m=\u001b[39m pd\u001b[38;5;241m.\u001b[39mDataFrame(res_company_objects)\n\u001b[1;32m     14\u001b[0m res_company\n",
      "Cell \u001b[0;32mIn[3], line 16\u001b[0m, in \u001b[0;36mget_data\u001b[0;34m(sock, uid, admin_user_pw, dbname, model_name, model_fields)\u001b[0m\n\u001b[1;32m     14\u001b[0m count \u001b[38;5;241m=\u001b[39m count \u001b[38;5;241m+\u001b[39m \u001b[38;5;241m1\u001b[39m\n\u001b[1;32m     15\u001b[0m \u001b[38;5;28;01mif\u001b[39;00m count \u001b[38;5;241m>\u001b[39m \u001b[38;5;241m4\u001b[39m:\n\u001b[0;32m---> 16\u001b[0m     \u001b[38;5;28;01mraise\u001b[39;00m err\n\u001b[1;32m     17\u001b[0m \u001b[38;5;28;01melse\u001b[39;00m:\n\u001b[1;32m     18\u001b[0m    _logger\u001b[38;5;241m.\u001b[39minfo(\u001b[38;5;124mu\u001b[39m\u001b[38;5;124m'\u001b[39m\u001b[38;5;132;01m%s\u001b[39;00m\u001b[38;5;124m \u001b[39m\u001b[38;5;132;01m%s\u001b[39;00m\u001b[38;5;130;01m\\n\u001b[39;00m\u001b[38;5;124m'\u001b[39m, \u001b[38;5;124m'\u001b[39m\u001b[38;5;124m--> Exception:\u001b[39m\u001b[38;5;124m'\u001b[39m, err)\n",
      "Cell \u001b[0;32mIn[3], line 8\u001b[0m, in \u001b[0;36mget_data\u001b[0;34m(sock, uid, admin_user_pw, dbname, model_name, model_fields)\u001b[0m\n\u001b[1;32m      6\u001b[0m \u001b[38;5;28;01mwhile\u001b[39;00m execute:\n\u001b[1;32m      7\u001b[0m     \u001b[38;5;28;01mtry\u001b[39;00m:\n\u001b[0;32m----> 8\u001b[0m         model_objects \u001b[38;5;241m=\u001b[39m sock\u001b[38;5;241m.\u001b[39mexecute(dbname, uid, admin_user_pw,\n\u001b[1;32m      9\u001b[0m                                      model_name, \u001b[38;5;124m'\u001b[39m\u001b[38;5;124msearch_read\u001b[39m\u001b[38;5;124m'\u001b[39m,\n\u001b[1;32m     10\u001b[0m                                      [],\n\u001b[1;32m     11\u001b[0m                                      model_fields)\n\u001b[1;32m     12\u001b[0m         execute \u001b[38;5;241m=\u001b[39m \u001b[38;5;28;01mFalse\u001b[39;00m\n\u001b[1;32m     13\u001b[0m     \u001b[38;5;28;01mexcept\u001b[39;00m \u001b[38;5;167;01mException\u001b[39;00m \u001b[38;5;28;01mas\u001b[39;00m err:\n",
      "\u001b[0;31mAttributeError\u001b[0m: 'bool' object has no attribute 'execute'"
     ]
    }
   ],
   "source": [
    "host_login = host.host_login(creds(host_name, 'server'),\n",
    "                             creds(host_name, 'dbname'),\n",
    "                             creds(host_name, 'user'),\n",
    "                             creds(host_name, 'user_pw'))\n",
    "print(host_login)\n",
    "\n",
    "res_company_fields = ['id', 'name']\n",
    "\n",
    "res_company_objects = get_data(host_login[1], host_login[0], creds(host_name, 'user_pw'), creds(host_name, 'dbname'),\n",
    "                               'res.company', res_company_fields)\n",
    "\n",
    "res_company = pd.DataFrame(res_company_objects)\n",
    "\n",
    "res_company"
   ]
  },
  {
   "cell_type": "markdown",
   "id": "3b10ff6f-6b6c-4f9e-af26-4f6eba82206f",
   "metadata": {},
   "source": [
    "## Importação dos dados de \"res.users\""
   ]
  },
  {
   "cell_type": "code",
   "execution_count": 14,
   "id": "4cb40ef1-7b9e-42aa-919a-ae756aac8a37",
   "metadata": {},
   "outputs": [
    {
     "name": "stderr",
     "output_type": "stream",
     "text": [
      "INFO:host:--> host_login https://192.168.25.210 clvhealth_jcafb_2025_15\n",
      "INFO:host:--> except cannot marshal None unless allow_none is enabled\n",
      "INFO:host:--> [22] Database does not exist.  \n",
      "INFO:__main__:--> Exception: 'bool' object has no attribute 'execute'\n",
      "\n",
      "INFO:__main__:--> Exception: 'bool' object has no attribute 'execute'\n",
      "\n",
      "INFO:__main__:--> Exception: 'bool' object has no attribute 'execute'\n",
      "\n",
      "INFO:__main__:--> Exception: 'bool' object has no attribute 'execute'\n",
      "\n"
     ]
    },
    {
     "name": "stdout",
     "output_type": "stream",
     "text": [
      "(False, False, '[22] Database does not exist.')\n"
     ]
    },
    {
     "ename": "AttributeError",
     "evalue": "'bool' object has no attribute 'execute'",
     "output_type": "error",
     "traceback": [
      "\u001b[0;31m---------------------------------------------------------------------------\u001b[0m",
      "\u001b[0;31mAttributeError\u001b[0m                            Traceback (most recent call last)",
      "Cell \u001b[0;32mIn[14], line 10\u001b[0m\n\u001b[1;32m      5\u001b[0m \u001b[38;5;28mprint\u001b[39m(host_login)\n\u001b[1;32m      7\u001b[0m res_users_fields \u001b[38;5;241m=\u001b[39m [\u001b[38;5;124m'\u001b[39m\u001b[38;5;124mid\u001b[39m\u001b[38;5;124m'\u001b[39m, \u001b[38;5;124m'\u001b[39m\u001b[38;5;124mname\u001b[39m\u001b[38;5;124m'\u001b[39m, \u001b[38;5;124m'\u001b[39m\u001b[38;5;124mpartner_id\u001b[39m\u001b[38;5;124m'\u001b[39m, \u001b[38;5;124m'\u001b[39m\u001b[38;5;124mcompany_id\u001b[39m\u001b[38;5;124m'\u001b[39m, \u001b[38;5;124m'\u001b[39m\u001b[38;5;124mparent_id\u001b[39m\u001b[38;5;124m'\u001b[39m, \u001b[38;5;124m'\u001b[39m\u001b[38;5;124mtz\u001b[39m\u001b[38;5;124m'\u001b[39m, \u001b[38;5;124m'\u001b[39m\u001b[38;5;124mlang\u001b[39m\u001b[38;5;124m'\u001b[39m, \u001b[38;5;124m'\u001b[39m\u001b[38;5;124mcountry_id\u001b[39m\u001b[38;5;124m'\u001b[39m,\n\u001b[1;32m      8\u001b[0m                     \u001b[38;5;124m'\u001b[39m\u001b[38;5;124mlogin\u001b[39m\u001b[38;5;124m'\u001b[39m, \u001b[38;5;124m'\u001b[39m\u001b[38;5;124mpassword\u001b[39m\u001b[38;5;124m'\u001b[39m, \u001b[38;5;124m'\u001b[39m\u001b[38;5;124mgroups_id\u001b[39m\u001b[38;5;124m'\u001b[39m, \u001b[38;5;124m'\u001b[39m\u001b[38;5;124mactive\u001b[39m\u001b[38;5;124m'\u001b[39m, \u001b[38;5;124m'\u001b[39m\u001b[38;5;124mimage_1920\u001b[39m\u001b[38;5;124m'\u001b[39m]\n\u001b[0;32m---> 10\u001b[0m res_users_objects \u001b[38;5;241m=\u001b[39m get_data(host_login[\u001b[38;5;241m1\u001b[39m], host_login[\u001b[38;5;241m0\u001b[39m], creds(host_name, \u001b[38;5;124m'\u001b[39m\u001b[38;5;124muser_pw\u001b[39m\u001b[38;5;124m'\u001b[39m), creds(host_name, \u001b[38;5;124m'\u001b[39m\u001b[38;5;124mdbname\u001b[39m\u001b[38;5;124m'\u001b[39m),\n\u001b[1;32m     11\u001b[0m                              \u001b[38;5;124m'\u001b[39m\u001b[38;5;124mres.users\u001b[39m\u001b[38;5;124m'\u001b[39m, res_users_fields)\n\u001b[1;32m     13\u001b[0m res_users \u001b[38;5;241m=\u001b[39m pd\u001b[38;5;241m.\u001b[39mDataFrame(res_users_objects)\n\u001b[1;32m     15\u001b[0m res_users\n",
      "Cell \u001b[0;32mIn[3], line 16\u001b[0m, in \u001b[0;36mget_data\u001b[0;34m(sock, uid, admin_user_pw, dbname, model_name, model_fields)\u001b[0m\n\u001b[1;32m     14\u001b[0m count \u001b[38;5;241m=\u001b[39m count \u001b[38;5;241m+\u001b[39m \u001b[38;5;241m1\u001b[39m\n\u001b[1;32m     15\u001b[0m \u001b[38;5;28;01mif\u001b[39;00m count \u001b[38;5;241m>\u001b[39m \u001b[38;5;241m4\u001b[39m:\n\u001b[0;32m---> 16\u001b[0m     \u001b[38;5;28;01mraise\u001b[39;00m err\n\u001b[1;32m     17\u001b[0m \u001b[38;5;28;01melse\u001b[39;00m:\n\u001b[1;32m     18\u001b[0m    _logger\u001b[38;5;241m.\u001b[39minfo(\u001b[38;5;124mu\u001b[39m\u001b[38;5;124m'\u001b[39m\u001b[38;5;132;01m%s\u001b[39;00m\u001b[38;5;124m \u001b[39m\u001b[38;5;132;01m%s\u001b[39;00m\u001b[38;5;130;01m\\n\u001b[39;00m\u001b[38;5;124m'\u001b[39m, \u001b[38;5;124m'\u001b[39m\u001b[38;5;124m--> Exception:\u001b[39m\u001b[38;5;124m'\u001b[39m, err)\n",
      "Cell \u001b[0;32mIn[3], line 8\u001b[0m, in \u001b[0;36mget_data\u001b[0;34m(sock, uid, admin_user_pw, dbname, model_name, model_fields)\u001b[0m\n\u001b[1;32m      6\u001b[0m \u001b[38;5;28;01mwhile\u001b[39;00m execute:\n\u001b[1;32m      7\u001b[0m     \u001b[38;5;28;01mtry\u001b[39;00m:\n\u001b[0;32m----> 8\u001b[0m         model_objects \u001b[38;5;241m=\u001b[39m sock\u001b[38;5;241m.\u001b[39mexecute(dbname, uid, admin_user_pw,\n\u001b[1;32m      9\u001b[0m                                      model_name, \u001b[38;5;124m'\u001b[39m\u001b[38;5;124msearch_read\u001b[39m\u001b[38;5;124m'\u001b[39m,\n\u001b[1;32m     10\u001b[0m                                      [],\n\u001b[1;32m     11\u001b[0m                                      model_fields)\n\u001b[1;32m     12\u001b[0m         execute \u001b[38;5;241m=\u001b[39m \u001b[38;5;28;01mFalse\u001b[39;00m\n\u001b[1;32m     13\u001b[0m     \u001b[38;5;28;01mexcept\u001b[39;00m \u001b[38;5;167;01mException\u001b[39;00m \u001b[38;5;28;01mas\u001b[39;00m err:\n",
      "\u001b[0;31mAttributeError\u001b[0m: 'bool' object has no attribute 'execute'"
     ]
    }
   ],
   "source": [
    "host_login = host.host_login(creds(host_name, 'server'),\n",
    "                             creds(host_name, 'dbname'),\n",
    "                             creds(host_name, 'user'),\n",
    "                             creds(host_name, 'user_pw'))\n",
    "print(host_login)\n",
    "\n",
    "res_users_fields = ['id', 'name', 'partner_id', 'company_id', 'parent_id', 'tz', 'lang', 'country_id',\n",
    "                    'login', 'password', 'groups_id', 'active', 'image_1920']\n",
    "\n",
    "res_users_objects = get_data(host_login[1], host_login[0], creds(host_name, 'user_pw'), creds(host_name, 'dbname'),\n",
    "                             'res.users', res_users_fields)\n",
    "\n",
    "res_users = pd.DataFrame(res_users_objects)\n",
    "\n",
    "res_users"
   ]
  },
  {
   "cell_type": "code",
   "execution_count": null,
   "id": "90c915ba-226b-4278-8972-30860f007bee",
   "metadata": {},
   "outputs": [],
   "source": []
  }
 ],
 "metadata": {
  "kernelspec": {
   "display_name": "Python 3 (ipykernel)",
   "language": "python",
   "name": "python3"
  },
  "language_info": {
   "codemirror_mode": {
    "name": "ipython",
    "version": 3
   },
   "file_extension": ".py",
   "mimetype": "text/x-python",
   "name": "python",
   "nbconvert_exporter": "python",
   "pygments_lexer": "ipython3",
   "version": "3.12.2"
  }
 },
 "nbformat": 4,
 "nbformat_minor": 5
}
