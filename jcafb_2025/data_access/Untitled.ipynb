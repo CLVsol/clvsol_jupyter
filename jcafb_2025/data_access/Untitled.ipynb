{
 "cells": [
  {
   "cell_type": "markdown",
   "id": "b488622b-e0b4-465e-ad7b-331f4ddb6bf4",
   "metadata": {},
   "source": [
    "# Migração de Usuários de \"tkl-odoo15-jcafb25-vm\" para \"tkl-odoo16-vm-18\""
   ]
  },
  {
   "cell_type": "markdown",
   "id": "b7c23f02-7717-4498-a1ed-9cba1894f6c0",
   "metadata": {},
   "source": [
    "## Leitura das Credenciais"
   ]
  },
  {
   "cell_type": "code",
   "execution_count": 1,
   "id": "49f4ffd7-4004-4414-9808-a1a7667802a9",
   "metadata": {},
   "outputs": [],
   "source": [
    "import sqlite3\n",
    "import pandas as pd\n",
    "\n",
    "conn = sqlite3.connect('data/jcafb_2025.db')\n",
    "\n",
    "hosts = pd.read_sql_query('SELECT * FROM host', conn, index_col='name')\n",
    "# display(hosts.head())\n",
    "\n",
    "# conn.commit()\n",
    "conn.close()\n",
    "\n",
    "creds = lambda index, col_name : hosts.at[index, col_name]\n"
   ]
  },
  {
   "cell_type": "markdown",
   "id": "e56d1ba9-0813-4261-be6c-a4b3b3f9fcfe",
   "metadata": {},
   "source": [
    "## Accesso ao Servidor \"tkl-odoo15-jcafb25-vm\" (host remoto)"
   ]
  },
  {
   "cell_type": "code",
   "execution_count": 2,
   "id": "3bdd3f4e-f28f-41bb-a010-7eee8c1b17ab",
   "metadata": {},
   "outputs": [
    {
     "name": "stderr",
     "output_type": "stream",
     "text": [
      "INFO:host:--> host_login https://192.168.25.210 clvhealth_jcafb_2025_15\n",
      "INFO:host:--> uid 2\n",
      "INFO:host:--> sock <ServerProxy for 192.168.25.210/xmlrpc/2/object>\n",
      "INFO:host:--> [01] Login Ok. Administrator \n",
      "INFO:host:--> {'id': 2, 'name': 'Administrator', 'parent_id': False}\n"
     ]
    },
    {
     "data": {
      "text/plain": [
       "(2, <ServerProxy for 192.168.25.210/xmlrpc/2/object>, '[01] Login Ok.')"
      ]
     },
     "execution_count": 2,
     "metadata": {},
     "output_type": "execute_result"
    }
   ],
   "source": [
    "import host\n",
    "\n",
    "rhost_name = 'tkl-odoo15-jcafb25-vm'\n",
    "\n",
    "rhost = host.host_login(creds(rhost_name, 'server'),\n",
    "                        creds(rhost_name, 'dbname'),\n",
    "                        creds(rhost_name, 'user'),\n",
    "                        creds(rhost_name, 'user_pw'))\n",
    "rhost"
   ]
  },
  {
   "cell_type": "markdown",
   "id": "59b90a9d-2169-4b0a-84f0-521e3e4ccf3d",
   "metadata": {},
   "source": [
    "## Accesso ao Servidor \"tkl-odoo16-vm-18\" (host local)"
   ]
  },
  {
   "cell_type": "code",
   "execution_count": 3,
   "id": "9635a4e9-27a5-4bbb-99b4-4fb003a914d3",
   "metadata": {},
   "outputs": [
    {
     "name": "stderr",
     "output_type": "stream",
     "text": [
      "INFO:host:--> host_login https://192.168.25.212 clvhealth_jcafb_16\n",
      "INFO:host:--> uid 2\n",
      "INFO:host:--> sock <ServerProxy for 192.168.25.212/xmlrpc/2/object>\n",
      "INFO:host:--> [01] Login Ok. Administrator \n",
      "INFO:host:--> {'id': 2, 'name': 'Administrator', 'parent_id': False}\n"
     ]
    },
    {
     "data": {
      "text/plain": [
       "(2, <ServerProxy for 192.168.25.212/xmlrpc/2/object>, '[01] Login Ok.')"
      ]
     },
     "execution_count": 3,
     "metadata": {},
     "output_type": "execute_result"
    }
   ],
   "source": [
    "lhost_name = 'tkl-odoo16-vm-18'\n",
    "\n",
    "lhost = host.host_login(creds(lhost_name, 'server'),\n",
    "                        creds(lhost_name, 'dbname'),\n",
    "                        creds(lhost_name, 'user'),\n",
    "                        creds(lhost_name, 'user_pw'))\n",
    "\n",
    "lhost"
   ]
  },
  {
   "cell_type": "markdown",
   "id": "62fb2022-a7b5-45f8-834a-e1cc78357d47",
   "metadata": {},
   "source": [
    "## Ler as informações de res_users do host remoto"
   ]
  },
  {
   "cell_type": "code",
   "execution_count": 4,
   "id": "52194f8c-bc18-424b-807e-cdb3e6928700",
   "metadata": {},
   "outputs": [],
   "source": [
    "# import res_users\n",
    "\n",
    "# res_users.res_user_migrate(rhost[1], rhost[0], creds(rhost_name, 'user_pw'), creds(rhost_name, 'dbname'),\n",
    "#                            lhost[1], lhost[0], creds(lhost_name, 'user_pw'), creds(lhost_name, 'dbname'))"
   ]
  },
  {
   "cell_type": "code",
   "execution_count": 5,
   "id": "88f3a301-3737-48a9-bf12-c722dd5c0b15",
   "metadata": {},
   "outputs": [],
   "source": [
    "import logging\n",
    "\n",
    "logging.basicConfig(level=logging.DEBUG)\n",
    "_logger = logging.getLogger(__name__)\n",
    "\n"
   ]
  },
  {
   "cell_type": "code",
   "execution_count": 6,
   "id": "e0f01934-e5fe-468c-857c-1f0a65477f9b",
   "metadata": {},
   "outputs": [],
   "source": [
    "def get_data(sock, uid, admin_user_pw, dbname,\n",
    "             model_name, model_fields):\n",
    "\n",
    "    count = 0\n",
    "    execute = True\n",
    "    while execute:\n",
    "        try:\n",
    "            model_objects = sock.execute(dbname, uid, admin_user_pw,\n",
    "                                         model_name, 'search_read',\n",
    "                                         [],\n",
    "                                         model_fields)\n",
    "            execute = False\n",
    "        except Exception as err:\n",
    "            count = count + 1\n",
    "            if count > 10:\n",
    "                raise err\n",
    "            else:\n",
    "               _logger.info(u'%s %s\\n', '--> Exception:', err)\n",
    "\n",
    "    _logger.info(u'%s %s\\n', '--> model_objects', len(model_objects))\n",
    "\n",
    "    return model_objects\n"
   ]
  },
  {
   "cell_type": "code",
   "execution_count": 7,
   "id": "bf42cf5a-e484-4626-81b0-9d25df3b0acc",
   "metadata": {},
   "outputs": [
    {
     "name": "stderr",
     "output_type": "stream",
     "text": [
      "INFO:__main__:--> model_objects 259\n",
      "\n"
     ]
    },
    {
     "name": "stdout",
     "output_type": "stream",
     "text": [
      "2 Administrator [3, 'Administrator'] [1, 'CLVhealth-JCAFB'] False America/Sao_Paulo pt_BR False admin  [2, 11, 7, 14, 16, 68, 72, 8, 1, 20, 12, 21, 66, 39, 63, 77, 45, 30, 33, 70, 54, 83, 51, 27, 74, 60, 48, 36, 80, 42, 57, 13, 19, 3, 22, 67, 40, 64, 78, 46, 31, 34, 71, 55, 84, 52, 28, 75, 61, 49, 37, 81, 43, 58, 18, 6, 15, 17, 65, 38, 62, 76, 44, 29, 32, 69, 53, 82, 50, 26, 73, 59, 47, 35, 79, 41, 56] True\n",
      "8 Alex Monteiro Magalhães [10, 'CLVhealth-JCAFB, Alex Monteiro Magalhães'] [1, 'CLVhealth-JCAFB'] [1, 'CLVhealth-JCAFB'] America/Sao_Paulo pt_BR False alex.magalhaes@gmail.com  [11, 7, 14, 16, 8, 1, 12, 13, 6, 15] True\n",
      "9 Alexandre Bakanovas [11, 'CLVhealth-JCAFB, Alexandre Bakanovas'] [1, 'CLVhealth-JCAFB'] [1, 'CLVhealth-JCAFB'] America/Sao_Paulo pt_BR False alexandre.bakanovas@usp.br  [11, 7, 14, 16, 8, 1, 12, 13, 6, 15] True\n",
      "10 Alice Herminia Serpentino [12, 'CLVhealth-JCAFB, Alice Herminia Serpentino'] [1, 'CLVhealth-JCAFB'] [1, 'CLVhealth-JCAFB'] America/Sao_Paulo pt_BR False aliceherminia@gmail.com  [11, 7, 14, 16, 8, 1, 12, 13, 6, 15] True\n",
      "11 Alice Mota Almeida [13, 'CLVhealth-JCAFB, Alice Mota Almeida'] [1, 'CLVhealth-JCAFB'] [1, 'CLVhealth-JCAFB'] America/Sao_Paulo pt_BR False alice.m.almeida@usp.br  [11, 7, 14, 16, 8, 1, 12, 13, 6, 15] True\n"
     ]
    },
    {
     "name": "stderr",
     "output_type": "stream",
     "text": [
      "INFO:__main__:--> model_objects 1947\n",
      "\n"
     ]
    },
    {
     "name": "stdout",
     "output_type": "stream",
     "text": [
      "3931 Abel Lucas Bertoni clv.patient_rec\n",
      "3481 Abel Lucas Bertoni clv.patient\n",
      "3932 Adalberto de Sousa clv.patient_rec\n",
      "3496 Adalberto de Sousa clv.patient\n",
      "3933 Adelaide Francisco Machado clv.patient_rec\n",
      "3724 Adelaide Francisco Machado clv.patient\n",
      "3934 Adelia Aparecida Fontana clv.patient_rec\n",
      "3671 Adelia Aparecida Fontana clv.patient\n",
      "3935 Ademar Antonio Dagoano clv.patient_rec\n",
      "3504 Ademar Antonio Dagoano clv.patient\n"
     ]
    },
    {
     "name": "stderr",
     "output_type": "stream",
     "text": [
      "INFO:__main__:--> model_objects 1\n",
      "\n"
     ]
    },
    {
     "name": "stdout",
     "output_type": "stream",
     "text": [
      "1 CLVhealth-JCAFB\n"
     ]
    }
   ],
   "source": [
    "res_users_fields = ['id', 'name', 'partner_id', 'company_id', 'parent_id', 'tz', 'lang', 'country_id',\n",
    "                    'login', 'password', 'groups_id', 'active', 'image_1920']\n",
    "\n",
    "\n",
    "res_users_objects = get_data(rhost[1], rhost[0], creds(rhost_name, 'user_pw'), creds(rhost_name, 'dbname'),\n",
    "                             'res.users', res_users_fields)\n",
    "\n",
    "count = 0\n",
    "for res_users_object in res_users_objects:\n",
    "\n",
    "    if count < 5:\n",
    "        print(res_users_object['id'],\n",
    "              res_users_object['name'],\n",
    "              res_users_object['partner_id'],\n",
    "              res_users_object['company_id'],\n",
    "              res_users_object['parent_id'],\n",
    "              res_users_object['tz'],\n",
    "              res_users_object['lang'],\n",
    "              res_users_object['country_id'],\n",
    "              res_users_object['login'],\n",
    "              res_users_object['password'],\n",
    "              res_users_object['groups_id'],\n",
    "              res_users_object['active'],\n",
    "              # res_users_object['image_1920']\n",
    "             )\n",
    "        count = count + 1\n",
    "\n",
    "res_partner_fields = ['id', 'name', 'type']\n",
    "\n",
    "res_partner_objects = get_data(rhost[1], rhost[0], creds(rhost_name, 'user_pw'), creds(rhost_name, 'dbname'),\n",
    "                               'res.partner', res_partner_fields)\n",
    "\n",
    "count = 0\n",
    "for res_partner_object in res_partner_objects:\n",
    "\n",
    "    if count < 10:\n",
    "        print(res_partner_object['id'],\n",
    "              res_partner_object['name'],\n",
    "              res_partner_object['type'],\n",
    "             )\n",
    "        count = count + 1\n",
    "\n",
    "res_company_fields = ['id', 'name']\n",
    "\n",
    "res_company_objects = get_data(rhost[1], rhost[0], creds(rhost_name, 'user_pw'), creds(rhost_name, 'dbname'),\n",
    "                               'res.company', res_company_fields)\n",
    "\n",
    "count = 0\n",
    "for res_company_object in res_company_objects:\n",
    "\n",
    "    if count < 10:\n",
    "        print(res_company_object['id'],\n",
    "              res_company_object['name'],\n",
    "             )\n",
    "        count = count + 1\n"
   ]
  },
  {
   "cell_type": "code",
   "execution_count": 8,
   "id": "d4a77675-e079-4c53-9067-b80b98434554",
   "metadata": {},
   "outputs": [
    {
     "name": "stderr",
     "output_type": "stream",
     "text": [
      "INFO:__main__:--> model_objects 2\n",
      "\n"
     ]
    },
    {
     "name": "stdout",
     "output_type": "stream",
     "text": [
      "2 Administrator [3, 'Administrator'] [1, 'CLVhealth-JCAFB'] False America/Sao_Paulo pt_BR False admin  [2, 12, 8, 17, 23, 19, 3, 9, 1, 13, 6, 16, 4, 7, 18, 20, 22] True\n",
      "6 Data Administrator [7, 'CLVhealth-JCAFB, Data Administrator'] [1, 'CLVhealth-JCAFB'] [1, 'CLVhealth-JCAFB'] America/Sao_Paulo pt_BR [31, 'Brazil'] data.admin  [12, 8, 19, 23, 17, 9, 1, 13, 6, 16, 7, 20, 22, 18] True\n"
     ]
    },
    {
     "name": "stderr",
     "output_type": "stream",
     "text": [
      "INFO:__main__:--> model_objects 4\n",
      "\n",
      "INFO:__main__:--> model_objects 1\n",
      "\n"
     ]
    },
    {
     "name": "stdout",
     "output_type": "stream",
     "text": [
      "8 Administrator private\n",
      "3 Administrator contact\n",
      "1 CLVhealth-JCAFB contact\n",
      "7 Data Administrator contact\n",
      "1 CLVhealth-JCAFB\n"
     ]
    }
   ],
   "source": [
    "res_users_fields = ['id', 'name', 'partner_id', 'company_id', 'parent_id', 'tz', 'lang', 'country_id',\n",
    "                    'login', 'password', 'groups_id', 'active', 'image_1920']\n",
    "\n",
    "\n",
    "res_users_objects = get_data(lhost[1], lhost[0], creds(lhost_name, 'user_pw'), creds(lhost_name, 'dbname'),\n",
    "                             'res.users', res_users_fields)\n",
    "\n",
    "count = 0\n",
    "for res_users_object in res_users_objects:\n",
    "\n",
    "    if count < 5:\n",
    "        print(res_users_object['id'],\n",
    "              res_users_object['name'],\n",
    "              res_users_object['partner_id'],\n",
    "              res_users_object['company_id'],\n",
    "              res_users_object['parent_id'],\n",
    "              res_users_object['tz'],\n",
    "              res_users_object['lang'],\n",
    "              res_users_object['country_id'],\n",
    "              res_users_object['login'],\n",
    "              res_users_object['password'],\n",
    "              res_users_object['groups_id'],\n",
    "              res_users_object['active'],\n",
    "              # res_users_object['image_1920']\n",
    "             )\n",
    "        count = count + 1\n",
    "\n",
    "res_partner_fields = ['id', 'name', 'type']\n",
    "\n",
    "res_partner_objects = get_data(lhost[1], lhost[0], creds(lhost_name, 'user_pw'), creds(lhost_name, 'dbname'),\n",
    "                               'res.partner', res_partner_fields)\n",
    "\n",
    "count = 0\n",
    "for res_partner_object in res_partner_objects:\n",
    "\n",
    "    if count < 10:\n",
    "        print(res_partner_object['id'],\n",
    "              res_partner_object['name'],\n",
    "              res_partner_object['type'],\n",
    "             )\n",
    "        count = count + 1\n",
    "\n",
    "res_company_fields = ['id', 'name']\n",
    "\n",
    "res_company_objects = get_data(lhost[1], lhost[0], creds(lhost_name, 'user_pw'), creds(lhost_name, 'dbname'),\n",
    "                               'res.company', res_company_fields)\n",
    "\n",
    "count = 0\n",
    "for res_company_object in res_company_objects:\n",
    "\n",
    "    if count < 10:\n",
    "        print(res_company_object['id'],\n",
    "              res_company_object['name'],\n",
    "             )\n",
    "        count = count + 1\n"
   ]
  },
  {
   "cell_type": "code",
   "execution_count": null,
   "id": "70065c79-878d-4422-81b3-16b74d948eb9",
   "metadata": {},
   "outputs": [],
   "source": []
  }
 ],
 "metadata": {
  "kernelspec": {
   "display_name": "Python 3 (ipykernel)",
   "language": "python",
   "name": "python3"
  },
  "language_info": {
   "codemirror_mode": {
    "name": "ipython",
    "version": 3
   },
   "file_extension": ".py",
   "mimetype": "text/x-python",
   "name": "python",
   "nbconvert_exporter": "python",
   "pygments_lexer": "ipython3",
   "version": "3.12.2"
  }
 },
 "nbformat": 4,
 "nbformat_minor": 5
}
