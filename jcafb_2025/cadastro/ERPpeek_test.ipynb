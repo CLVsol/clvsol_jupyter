{
 "cells": [
  {
   "cell_type": "code",
   "execution_count": 73,
   "id": "85457974-ccfd-4cdc-bed8-585e5493b3b6",
   "metadata": {},
   "outputs": [
    {
     "name": "stdout",
     "output_type": "stream",
     "text": [
      "sock_common.version(): \"{'server_version': '16.0', 'server_version_info': [16, 0, 0, 'final', 0, ''], 'server_serie': '16.0', 'protocol_version': 1}\"\n",
      "<Client 'https://192.168.25.212/xmlrpc#()'>\n",
      "Databases found: ['clvhealth_jcafb_16']\n",
      "<Client 'https://192.168.25.212/xmlrpc#clvhealth_jcafb_16'>\n",
      "<Model 'res.users'>\n",
      "<RecordList 'res.users,[2, 6]'>\n",
      "<Client 'https://192.168.25.212/xmlrpc#clvhealth_jcafb_16'>\n",
      "[{'id': 6, 'name': 'Data Administrator', 'login': 'data.admin'}]\n",
      "<Client 'https://192.168.25.212/xmlrpc#clvhealth_jcafb_16'>\n",
      "[{'id': 2, 'name': 'Administrator', 'login': 'admin'}]\n"
     ]
    },
    {
     "name": "stderr",
     "output_type": "stream",
     "text": [
      "INFO:host:--> host_login https://192.168.25.212 clvhealth_jcafb_16\n"
     ]
    },
    {
     "name": "stdout",
     "output_type": "stream",
     "text": [
      "<Client 'https://192.168.25.212/xmlrpc#clvhealth_jcafb_16'>\n",
      "[{'id': 2, 'name': 'Administrator', 'login': 'admin'}, {'id': 6, 'name': 'Data Administrator', 'login': 'data.admin'}]\n",
      "Teste de host_login\n"
     ]
    },
    {
     "name": "stderr",
     "output_type": "stream",
     "text": [
      "INFO:host:--> uid 2\n",
      "INFO:host:--> sock <ServerProxy for 192.168.25.212/xmlrpc/2/object>\n",
      "INFO:host:--> [01] Login Ok. Administrator \n",
      "INFO:host:--> {'id': 2, 'name': 'Administrator', 'parent_id': False}\n"
     ]
    },
    {
     "data": {
      "text/plain": [
       "(2, <ServerProxy for 192.168.25.212/xmlrpc/2/object>, '[01] Login Ok.')"
      ]
     },
     "execution_count": 73,
     "metadata": {},
     "output_type": "execute_result"
    }
   ],
   "source": [
    "import erppeek\n",
    "import xmlrpc.client as xmlrpclib\n",
    "import ssl\n",
    "import host\n",
    "\n",
    "# SERVER = 'https://192.168.25.210'\n",
    "# DATABASE = 'clvhealth_jcafb_2025_15'\n",
    "# USERNAME = 'admin'\n",
    "# PASSWORD = 'fM790lekMF7akNJ483kX88sg4uUm9p1oYs1J1P8'\n",
    "SERVER = 'https://192.168.25.212'\n",
    "DATABASE = 'clvhealth_jcafb_16'\n",
    "USERNAME = 'admin'\n",
    "PASSWORD = 'admin'\n",
    "\n",
    "try:\n",
    "    _create_unverified_https_context = ssl._create_unverified_context\n",
    "except AttributeError:\n",
    "    # Legacy Python that doesn't verify HTTPS certificates by default\n",
    "    pass\n",
    "else:\n",
    "    # Handle target environment that doesn't support HTTPS verification\n",
    "    ssl._create_default_https_context = _create_unverified_https_context\n",
    "\n",
    "# url = 'http://localhost:8069'\n",
    "url = SERVER\n",
    "sock_common = xmlrpclib.ServerProxy('{}/xmlrpc/2/common'.format(url))\n",
    "print('sock_common.version(): \"{0}\"'.format(sock_common.version()))\n",
    "\n",
    "# client = erppeek.Client(SERVER, DATABASE, USERNAME, PASSWORD)\n",
    "client = erppeek.Client(server=SERVER)\n",
    "print(client)\n",
    "print('Databases found: {0}'.format(client.db.list()))\n",
    "\n",
    "client = erppeek.Client(SERVER, DATABASE, USERNAME, PASSWORD)\n",
    "print(client)\n",
    "\n",
    "client._browse_compat = True\n",
    "\n",
    "ResUsers = client.model('res.users')\n",
    "print(ResUsers)\n",
    "\n",
    "# ResPartner = client.model('res.partner')\n",
    "# print(ResPartner)\n",
    "\n",
    "\n",
    "# domain = [('name', '=', 'Administrator'), ]\n",
    "# domain = [('name', '=', 'Alice Herminia Serpentino'), ]\n",
    "domain = []\n",
    "users = ResUsers.browse(domain, limit=None)\n",
    "print(users)\n",
    "# for user in users:\n",
    "#     print(user.id)\n",
    "\n",
    "client = erppeek.Client(SERVER, DATABASE, USERNAME, PASSWORD)\n",
    "print(client)\n",
    "print(client.read('res.users', [('name', '!=', 'Administrator'), ], ('id', 'name', 'login')))\n",
    "\n",
    "client = erppeek.Client(SERVER, DATABASE, USERNAME, PASSWORD)\n",
    "print(client)\n",
    "print(client.read('res.users', [('name', '=', 'Administrator'), ], ('id', 'name', 'login')))\n",
    "\n",
    "client = erppeek.Client(SERVER, DATABASE, USERNAME, PASSWORD)\n",
    "print(client)\n",
    "# print(client.read('res.users', [2, 10, 12], ('id', 'name', 'login')))\n",
    "print(client.read('res.users', [2, 6], ('id', 'name', 'login')))\n",
    "\n",
    "# domain = []\n",
    "# partners = ResPartner.browse(domain, limit=None)loglog\n",
    "# print(partners)\n",
    "# for partner in partners:\n",
    "#     print(partner.id)\n",
    "\n",
    "print('Teste de host_login')\n",
    "host.host_login(SERVER, DATABASE, USERNAME, PASSWORD)\n"
   ]
  },
  {
   "cell_type": "code",
   "execution_count": null,
   "id": "36de64ff-252f-4da9-ba41-4025eb96faca",
   "metadata": {},
   "outputs": [],
   "source": []
  }
 ],
 "metadata": {
  "kernelspec": {
   "display_name": "Python 3 (ipykernel)",
   "language": "python",
   "name": "python3"
  },
  "language_info": {
   "codemirror_mode": {
    "name": "ipython",
    "version": 3
   },
   "file_extension": ".py",
   "mimetype": "text/x-python",
   "name": "python",
   "nbconvert_exporter": "python",
   "pygments_lexer": "ipython3",
   "version": "3.12.4"
  }
 },
 "nbformat": 4,
 "nbformat_minor": 5
}
