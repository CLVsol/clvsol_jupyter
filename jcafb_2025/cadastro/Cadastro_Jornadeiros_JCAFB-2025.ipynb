{
 "cells": [
  {
   "cell_type": "markdown",
   "id": "3320b399-dd63-4ae0-821b-a9a9f355ba8c",
   "metadata": {},
   "source": [
    "# Preparação do Cadastro de Jornadeiros para a JCAFB-2025\n",
    "Novembro de 2024"
   ]
  },
  {
   "cell_type": "markdown",
   "id": "754f4e93-0225-42ac-a38c-d85f7620fd3e",
   "metadata": {},
   "source": [
    "### Funções de Suporte (1)"
   ]
  },
  {
   "cell_type": "code",
   "execution_count": 1,
   "id": "4a5af07c-eac7-402a-a8f1-fbf8c38b4407",
   "metadata": {},
   "outputs": [],
   "source": [
    "import pandas as pd"
   ]
  },
  {
   "cell_type": "markdown",
   "id": "b8a06306-6cf1-4fee-9a65-8b774268fff7",
   "metadata": {},
   "source": [
    "## Tratamento inicial de \"res.users.xlsx\""
   ]
  },
  {
   "cell_type": "code",
   "execution_count": 2,
   "id": "0eb12dda-7d85-4f2d-8de5-491604866609",
   "metadata": {},
   "outputs": [],
   "source": [
    "res_users_path = 'data/res.users.xlsx'\n",
    "res_users_sheet = 'Sheet1'\n",
    "xls_in = pd.ExcelFile(res_users_path)\n",
    "res_users = pd.read_excel(xls_in, sheet_name=res_users_sheet)\n",
    "\n",
    "for i, row in res_users.iterrows():\n",
    "    name = str(row['name'])\n",
    "    if name[-1] == ' ':\n",
    "        name = name[:-1]\n",
    "    res_users['name'].values[i] = name\n",
    "\n",
    "res_users.to_excel(res_users_path, sheet_name=res_users_sheet, index=False)\n"
   ]
  },
  {
   "cell_type": "markdown",
   "id": "0f9427d6-c243-4fd2-9115-ff408dae0bb0",
   "metadata": {},
   "source": [
    "## Tratamento inicial de \"hr.employee.xlsx\""
   ]
  },
  {
   "cell_type": "code",
   "execution_count": 3,
   "id": "a5268418-eaa6-4d81-bffc-72b1d26f16e5",
   "metadata": {},
   "outputs": [],
   "source": [
    "hr_employee_path = 'data/hr.employee.xlsx'\n",
    "hr_employee_sheet = 'Sheet1'\n",
    "xls_in = pd.ExcelFile(hr_employee_path)\n",
    "hr_employee = pd.read_excel(xls_in, sheet_name=hr_employee_sheet)\n",
    "\n",
    "for i, row in hr_employee.iterrows():\n",
    "    name = str(row['name'])\n",
    "    if name[-1] == ' ':\n",
    "        name = name[:-1]\n",
    "    hr_employee['name'].values[i] = name\n",
    "\n",
    "hr_employee.to_excel(hr_employee_path, sheet_name=hr_employee_sheet, index=False)\n"
   ]
  },
  {
   "cell_type": "markdown",
   "id": "25ac6b99-7eff-4570-879e-d7fca5190132",
   "metadata": {},
   "source": [
    "## Leitura de \"Usuários (res.users).xlsx\""
   ]
  },
  {
   "cell_type": "code",
   "execution_count": 4,
   "id": "2166efe5-9e72-43c6-9619-9885d4713098",
   "metadata": {},
   "outputs": [],
   "source": [
    "usuarios_path = 'data/Usuários (res.users).xlsx'\n",
    "usuarios_sheet = 'Sheet1'\n",
    "xls_in = pd.ExcelFile(usuarios_path)\n",
    "usuarios = pd.read_excel(xls_in, sheet_name=usuarios_sheet)\n"
   ]
  },
  {
   "cell_type": "markdown",
   "id": "2f81b2a8-74b4-43d6-8f4c-57e4922fd6b0",
   "metadata": {},
   "source": [
    "## Leitura de \"Funcionário (hr.employee).xlsx\""
   ]
  },
  {
   "cell_type": "code",
   "execution_count": 5,
   "id": "a480ed1d-df44-4163-8771-f5300f76b036",
   "metadata": {},
   "outputs": [],
   "source": [
    "funcionarios_path = 'data/Funcionário (hr.employee).xlsx'\n",
    "funcionarios_sheet = 'Sheet1'\n",
    "xls_in = pd.ExcelFile(funcionarios_path)\n",
    "employees = pd.read_excel(xls_in, sheet_name=funcionarios_sheet)\n"
   ]
  },
  {
   "cell_type": "markdown",
   "id": "b94ace48-3191-4f80-ab6a-dcbd0d4b2424",
   "metadata": {},
   "source": []
  },
  {
   "cell_type": "code",
   "execution_count": 6,
   "id": "391b47fd-574b-40d6-a0db-d5b63751a1ff",
   "metadata": {},
   "outputs": [
    {
     "name": "stdout",
     "output_type": "stream",
     "text": [
      "Alice Mota Almeida __export__.res_users_11_5fc051ff __export__.hr_employee_296_b60e3f1f\n",
      "Bruna Giacometti Colasuonno __export__.res_users_37_c3b41e2e __export__.hr_employee_270_75caa47d\n",
      "Flávia Yuri Miake __export__.res_users_241_6d316367 __export__.hr_employee_326_9b86c46a\n",
      "Isabella de Carvalho Bragiotti __export__.res_users_244_0505651a __export__.hr_employee_329_a84d89df\n",
      "Maria Luiza Marcondes Galhardo __export__.res_users_250_7ef6a4c4 __export__.hr_employee_335_339f371d\n",
      "Nathan de Azevedo Capelo __export__.res_users_255_8526a154 __export__.hr_employee_340_bc6e2de7\n",
      "Victor Jun Notoya Abe __export__.res_users_258_331a5887 __export__.hr_employee_343_7a0259a2\n",
      "Gabrielle de Almeida Cobra __export__.res_users_260_2028484a __export__.hr_employee_345_16a487e3\n"
     ]
    }
   ],
   "source": [
    "for i, row in res_users.iterrows():\n",
    "    ref_index_1 = usuarios.index[usuarios['name'] == row['name']].tolist()\n",
    "    if ref_index_1 != []:\n",
    "        ref_index_2 = employees.index[employees['name'] == row['name']].tolist()\n",
    "        if ref_index_2 != []:\n",
    "            usuario_id = usuarios['id'].values[ref_index_1][0]\n",
    "            employee_id = employees['id'].values[ref_index_2][0]\n",
    "            ref_index_3 = hr_employee.index[hr_employee['name'] == row['name']].tolist()[0]\n",
    "            print(row['name'], usuario_id, employee_id)\n",
    "            res_users['id'].values[i] = usuario_id\n",
    "            hr_employee['id'].values[ref_index_3] = employee_id\n",
    "            # hr_employee[hr_employee.columns[11]].values[ref_index_3] = usuario_id\n",
    "            hr_employee[hr_employee.columns[11]].values[ref_index_3] = None\n",
    "            hr_employee['code'].values[ref_index_3] = None\n",
    "            hr_employee['token'].values[ref_index_3] = None\n",
    "\n",
    "res_users.to_excel(res_users_path, sheet_name=res_users_sheet, index=False)\n",
    "hr_employee.to_excel(hr_employee_path, sheet_name=hr_employee_sheet, index=False)\n"
   ]
  },
  {
   "cell_type": "code",
   "execution_count": null,
   "id": "22809d64-7b32-43a2-bad2-06ea33e1e0c2",
   "metadata": {},
   "outputs": [],
   "source": []
  }
 ],
 "metadata": {
  "kernelspec": {
   "display_name": "Python 3 (ipykernel)",
   "language": "python",
   "name": "python3"
  },
  "language_info": {
   "codemirror_mode": {
    "name": "ipython",
    "version": 3
   },
   "file_extension": ".py",
   "mimetype": "text/x-python",
   "name": "python",
   "nbconvert_exporter": "python",
   "pygments_lexer": "ipython3",
   "version": "3.12.2"
  }
 },
 "nbformat": 4,
 "nbformat_minor": 5
}
